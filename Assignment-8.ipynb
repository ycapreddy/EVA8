{
  "nbformat": 4,
  "nbformat_minor": 0,
  "metadata": {
    "colab": {
      "provenance": [],
      "include_colab_link": true
    },
    "kernelspec": {
      "name": "python3",
      "display_name": "Python 3"
    },
    "language_info": {
      "name": "python"
    },
    "accelerator": "GPU",
    "gpuClass": "standard",
    "widgets": {
      "application/vnd.jupyter.widget-state+json": {
        "c53a23e8c92f46e6af267512910155a2": {
          "model_module": "@jupyter-widgets/controls",
          "model_name": "HBoxModel",
          "model_module_version": "1.5.0",
          "state": {
            "_dom_classes": [],
            "_model_module": "@jupyter-widgets/controls",
            "_model_module_version": "1.5.0",
            "_model_name": "HBoxModel",
            "_view_count": null,
            "_view_module": "@jupyter-widgets/controls",
            "_view_module_version": "1.5.0",
            "_view_name": "HBoxView",
            "box_style": "",
            "children": [
              "IPY_MODEL_8b79da7b68fd460eb95afdd5cbe7a534",
              "IPY_MODEL_9f5232960c80480884be2dbdeffebe4a",
              "IPY_MODEL_725626b6dfe04fd09a2195a871f37124"
            ],
            "layout": "IPY_MODEL_97a64b30419e4bceb2dcfdcb8ca6074f"
          }
        },
        "8b79da7b68fd460eb95afdd5cbe7a534": {
          "model_module": "@jupyter-widgets/controls",
          "model_name": "HTMLModel",
          "model_module_version": "1.5.0",
          "state": {
            "_dom_classes": [],
            "_model_module": "@jupyter-widgets/controls",
            "_model_module_version": "1.5.0",
            "_model_name": "HTMLModel",
            "_view_count": null,
            "_view_module": "@jupyter-widgets/controls",
            "_view_module_version": "1.5.0",
            "_view_name": "HTMLView",
            "description": "",
            "description_tooltip": null,
            "layout": "IPY_MODEL_55474136915b48df92f911b377c854dc",
            "placeholder": "​",
            "style": "IPY_MODEL_eb357853888c47bc9c59eeae5ecb15ee",
            "value": "100%"
          }
        },
        "9f5232960c80480884be2dbdeffebe4a": {
          "model_module": "@jupyter-widgets/controls",
          "model_name": "FloatProgressModel",
          "model_module_version": "1.5.0",
          "state": {
            "_dom_classes": [],
            "_model_module": "@jupyter-widgets/controls",
            "_model_module_version": "1.5.0",
            "_model_name": "FloatProgressModel",
            "_view_count": null,
            "_view_module": "@jupyter-widgets/controls",
            "_view_module_version": "1.5.0",
            "_view_name": "ProgressView",
            "bar_style": "success",
            "description": "",
            "description_tooltip": null,
            "layout": "IPY_MODEL_8d3a1415ee3c48fdb754279061baa564",
            "max": 200,
            "min": 0,
            "orientation": "horizontal",
            "style": "IPY_MODEL_754ec79017c144a8a97a803abdad04b1",
            "value": 200
          }
        },
        "725626b6dfe04fd09a2195a871f37124": {
          "model_module": "@jupyter-widgets/controls",
          "model_name": "HTMLModel",
          "model_module_version": "1.5.0",
          "state": {
            "_dom_classes": [],
            "_model_module": "@jupyter-widgets/controls",
            "_model_module_version": "1.5.0",
            "_model_name": "HTMLModel",
            "_view_count": null,
            "_view_module": "@jupyter-widgets/controls",
            "_view_module_version": "1.5.0",
            "_view_name": "HTMLView",
            "description": "",
            "description_tooltip": null,
            "layout": "IPY_MODEL_6b43a42c2c0d4f8db8a048a513e6427e",
            "placeholder": "​",
            "style": "IPY_MODEL_d5633876d12e418ba0917a19b8975a7f",
            "value": " 200/200 [00:28&lt;00:00,  7.73it/s]"
          }
        },
        "97a64b30419e4bceb2dcfdcb8ca6074f": {
          "model_module": "@jupyter-widgets/base",
          "model_name": "LayoutModel",
          "model_module_version": "1.2.0",
          "state": {
            "_model_module": "@jupyter-widgets/base",
            "_model_module_version": "1.2.0",
            "_model_name": "LayoutModel",
            "_view_count": null,
            "_view_module": "@jupyter-widgets/base",
            "_view_module_version": "1.2.0",
            "_view_name": "LayoutView",
            "align_content": null,
            "align_items": null,
            "align_self": null,
            "border": null,
            "bottom": null,
            "display": null,
            "flex": null,
            "flex_flow": null,
            "grid_area": null,
            "grid_auto_columns": null,
            "grid_auto_flow": null,
            "grid_auto_rows": null,
            "grid_column": null,
            "grid_gap": null,
            "grid_row": null,
            "grid_template_areas": null,
            "grid_template_columns": null,
            "grid_template_rows": null,
            "height": null,
            "justify_content": null,
            "justify_items": null,
            "left": null,
            "margin": null,
            "max_height": null,
            "max_width": null,
            "min_height": null,
            "min_width": null,
            "object_fit": null,
            "object_position": null,
            "order": null,
            "overflow": null,
            "overflow_x": null,
            "overflow_y": null,
            "padding": null,
            "right": null,
            "top": null,
            "visibility": null,
            "width": null
          }
        },
        "55474136915b48df92f911b377c854dc": {
          "model_module": "@jupyter-widgets/base",
          "model_name": "LayoutModel",
          "model_module_version": "1.2.0",
          "state": {
            "_model_module": "@jupyter-widgets/base",
            "_model_module_version": "1.2.0",
            "_model_name": "LayoutModel",
            "_view_count": null,
            "_view_module": "@jupyter-widgets/base",
            "_view_module_version": "1.2.0",
            "_view_name": "LayoutView",
            "align_content": null,
            "align_items": null,
            "align_self": null,
            "border": null,
            "bottom": null,
            "display": null,
            "flex": null,
            "flex_flow": null,
            "grid_area": null,
            "grid_auto_columns": null,
            "grid_auto_flow": null,
            "grid_auto_rows": null,
            "grid_column": null,
            "grid_gap": null,
            "grid_row": null,
            "grid_template_areas": null,
            "grid_template_columns": null,
            "grid_template_rows": null,
            "height": null,
            "justify_content": null,
            "justify_items": null,
            "left": null,
            "margin": null,
            "max_height": null,
            "max_width": null,
            "min_height": null,
            "min_width": null,
            "object_fit": null,
            "object_position": null,
            "order": null,
            "overflow": null,
            "overflow_x": null,
            "overflow_y": null,
            "padding": null,
            "right": null,
            "top": null,
            "visibility": null,
            "width": null
          }
        },
        "eb357853888c47bc9c59eeae5ecb15ee": {
          "model_module": "@jupyter-widgets/controls",
          "model_name": "DescriptionStyleModel",
          "model_module_version": "1.5.0",
          "state": {
            "_model_module": "@jupyter-widgets/controls",
            "_model_module_version": "1.5.0",
            "_model_name": "DescriptionStyleModel",
            "_view_count": null,
            "_view_module": "@jupyter-widgets/base",
            "_view_module_version": "1.2.0",
            "_view_name": "StyleView",
            "description_width": ""
          }
        },
        "8d3a1415ee3c48fdb754279061baa564": {
          "model_module": "@jupyter-widgets/base",
          "model_name": "LayoutModel",
          "model_module_version": "1.2.0",
          "state": {
            "_model_module": "@jupyter-widgets/base",
            "_model_module_version": "1.2.0",
            "_model_name": "LayoutModel",
            "_view_count": null,
            "_view_module": "@jupyter-widgets/base",
            "_view_module_version": "1.2.0",
            "_view_name": "LayoutView",
            "align_content": null,
            "align_items": null,
            "align_self": null,
            "border": null,
            "bottom": null,
            "display": null,
            "flex": null,
            "flex_flow": null,
            "grid_area": null,
            "grid_auto_columns": null,
            "grid_auto_flow": null,
            "grid_auto_rows": null,
            "grid_column": null,
            "grid_gap": null,
            "grid_row": null,
            "grid_template_areas": null,
            "grid_template_columns": null,
            "grid_template_rows": null,
            "height": null,
            "justify_content": null,
            "justify_items": null,
            "left": null,
            "margin": null,
            "max_height": null,
            "max_width": null,
            "min_height": null,
            "min_width": null,
            "object_fit": null,
            "object_position": null,
            "order": null,
            "overflow": null,
            "overflow_x": null,
            "overflow_y": null,
            "padding": null,
            "right": null,
            "top": null,
            "visibility": null,
            "width": null
          }
        },
        "754ec79017c144a8a97a803abdad04b1": {
          "model_module": "@jupyter-widgets/controls",
          "model_name": "ProgressStyleModel",
          "model_module_version": "1.5.0",
          "state": {
            "_model_module": "@jupyter-widgets/controls",
            "_model_module_version": "1.5.0",
            "_model_name": "ProgressStyleModel",
            "_view_count": null,
            "_view_module": "@jupyter-widgets/base",
            "_view_module_version": "1.2.0",
            "_view_name": "StyleView",
            "bar_color": null,
            "description_width": ""
          }
        },
        "6b43a42c2c0d4f8db8a048a513e6427e": {
          "model_module": "@jupyter-widgets/base",
          "model_name": "LayoutModel",
          "model_module_version": "1.2.0",
          "state": {
            "_model_module": "@jupyter-widgets/base",
            "_model_module_version": "1.2.0",
            "_model_name": "LayoutModel",
            "_view_count": null,
            "_view_module": "@jupyter-widgets/base",
            "_view_module_version": "1.2.0",
            "_view_name": "LayoutView",
            "align_content": null,
            "align_items": null,
            "align_self": null,
            "border": null,
            "bottom": null,
            "display": null,
            "flex": null,
            "flex_flow": null,
            "grid_area": null,
            "grid_auto_columns": null,
            "grid_auto_flow": null,
            "grid_auto_rows": null,
            "grid_column": null,
            "grid_gap": null,
            "grid_row": null,
            "grid_template_areas": null,
            "grid_template_columns": null,
            "grid_template_rows": null,
            "height": null,
            "justify_content": null,
            "justify_items": null,
            "left": null,
            "margin": null,
            "max_height": null,
            "max_width": null,
            "min_height": null,
            "min_width": null,
            "object_fit": null,
            "object_position": null,
            "order": null,
            "overflow": null,
            "overflow_x": null,
            "overflow_y": null,
            "padding": null,
            "right": null,
            "top": null,
            "visibility": null,
            "width": null
          }
        },
        "d5633876d12e418ba0917a19b8975a7f": {
          "model_module": "@jupyter-widgets/controls",
          "model_name": "DescriptionStyleModel",
          "model_module_version": "1.5.0",
          "state": {
            "_model_module": "@jupyter-widgets/controls",
            "_model_module_version": "1.5.0",
            "_model_name": "DescriptionStyleModel",
            "_view_count": null,
            "_view_module": "@jupyter-widgets/base",
            "_view_module_version": "1.2.0",
            "_view_name": "StyleView",
            "description_width": ""
          }
        },
        "b3619f0de7334c809ed452835bb7cce0": {
          "model_module": "@jupyter-widgets/controls",
          "model_name": "HBoxModel",
          "model_module_version": "1.5.0",
          "state": {
            "_dom_classes": [],
            "_model_module": "@jupyter-widgets/controls",
            "_model_module_version": "1.5.0",
            "_model_name": "HBoxModel",
            "_view_count": null,
            "_view_module": "@jupyter-widgets/controls",
            "_view_module_version": "1.5.0",
            "_view_name": "HBoxView",
            "box_style": "",
            "children": [
              "IPY_MODEL_1ec9b5a46bd8451e8dbd119c21095bad",
              "IPY_MODEL_5fad658705c841df98a50b7f547071a9",
              "IPY_MODEL_8149293f52a54f5e846ea65e3c5e5d8c"
            ],
            "layout": "IPY_MODEL_e1f809379cbd480098016e454d38d682"
          }
        },
        "1ec9b5a46bd8451e8dbd119c21095bad": {
          "model_module": "@jupyter-widgets/controls",
          "model_name": "HTMLModel",
          "model_module_version": "1.5.0",
          "state": {
            "_dom_classes": [],
            "_model_module": "@jupyter-widgets/controls",
            "_model_module_version": "1.5.0",
            "_model_name": "HTMLModel",
            "_view_count": null,
            "_view_module": "@jupyter-widgets/controls",
            "_view_module_version": "1.5.0",
            "_view_name": "HTMLView",
            "description": "",
            "description_tooltip": null,
            "layout": "IPY_MODEL_87f05840dc174d1b8ef5e7ae07050b3d",
            "placeholder": "​",
            "style": "IPY_MODEL_4b4bc0757c5b4608a9de8962c8956701",
            "value": "100%"
          }
        },
        "5fad658705c841df98a50b7f547071a9": {
          "model_module": "@jupyter-widgets/controls",
          "model_name": "FloatProgressModel",
          "model_module_version": "1.5.0",
          "state": {
            "_dom_classes": [],
            "_model_module": "@jupyter-widgets/controls",
            "_model_module_version": "1.5.0",
            "_model_name": "FloatProgressModel",
            "_view_count": null,
            "_view_module": "@jupyter-widgets/controls",
            "_view_module_version": "1.5.0",
            "_view_name": "ProgressView",
            "bar_style": "success",
            "description": "",
            "description_tooltip": null,
            "layout": "IPY_MODEL_a15416ff09664e0ca1e7985cf3073dc4",
            "max": 200,
            "min": 0,
            "orientation": "horizontal",
            "style": "IPY_MODEL_3cb3a44fd1654242923973b8ea06d692",
            "value": 200
          }
        },
        "8149293f52a54f5e846ea65e3c5e5d8c": {
          "model_module": "@jupyter-widgets/controls",
          "model_name": "HTMLModel",
          "model_module_version": "1.5.0",
          "state": {
            "_dom_classes": [],
            "_model_module": "@jupyter-widgets/controls",
            "_model_module_version": "1.5.0",
            "_model_name": "HTMLModel",
            "_view_count": null,
            "_view_module": "@jupyter-widgets/controls",
            "_view_module_version": "1.5.0",
            "_view_name": "HTMLView",
            "description": "",
            "description_tooltip": null,
            "layout": "IPY_MODEL_5ed2a9da599b407a9fa2f9640f3d16d3",
            "placeholder": "​",
            "style": "IPY_MODEL_c6a19aa0a8654b92a70d943baed75836",
            "value": " 200/200 [00:24&lt;00:00,  5.65it/s]"
          }
        },
        "e1f809379cbd480098016e454d38d682": {
          "model_module": "@jupyter-widgets/base",
          "model_name": "LayoutModel",
          "model_module_version": "1.2.0",
          "state": {
            "_model_module": "@jupyter-widgets/base",
            "_model_module_version": "1.2.0",
            "_model_name": "LayoutModel",
            "_view_count": null,
            "_view_module": "@jupyter-widgets/base",
            "_view_module_version": "1.2.0",
            "_view_name": "LayoutView",
            "align_content": null,
            "align_items": null,
            "align_self": null,
            "border": null,
            "bottom": null,
            "display": null,
            "flex": null,
            "flex_flow": null,
            "grid_area": null,
            "grid_auto_columns": null,
            "grid_auto_flow": null,
            "grid_auto_rows": null,
            "grid_column": null,
            "grid_gap": null,
            "grid_row": null,
            "grid_template_areas": null,
            "grid_template_columns": null,
            "grid_template_rows": null,
            "height": null,
            "justify_content": null,
            "justify_items": null,
            "left": null,
            "margin": null,
            "max_height": null,
            "max_width": null,
            "min_height": null,
            "min_width": null,
            "object_fit": null,
            "object_position": null,
            "order": null,
            "overflow": null,
            "overflow_x": null,
            "overflow_y": null,
            "padding": null,
            "right": null,
            "top": null,
            "visibility": null,
            "width": null
          }
        },
        "87f05840dc174d1b8ef5e7ae07050b3d": {
          "model_module": "@jupyter-widgets/base",
          "model_name": "LayoutModel",
          "model_module_version": "1.2.0",
          "state": {
            "_model_module": "@jupyter-widgets/base",
            "_model_module_version": "1.2.0",
            "_model_name": "LayoutModel",
            "_view_count": null,
            "_view_module": "@jupyter-widgets/base",
            "_view_module_version": "1.2.0",
            "_view_name": "LayoutView",
            "align_content": null,
            "align_items": null,
            "align_self": null,
            "border": null,
            "bottom": null,
            "display": null,
            "flex": null,
            "flex_flow": null,
            "grid_area": null,
            "grid_auto_columns": null,
            "grid_auto_flow": null,
            "grid_auto_rows": null,
            "grid_column": null,
            "grid_gap": null,
            "grid_row": null,
            "grid_template_areas": null,
            "grid_template_columns": null,
            "grid_template_rows": null,
            "height": null,
            "justify_content": null,
            "justify_items": null,
            "left": null,
            "margin": null,
            "max_height": null,
            "max_width": null,
            "min_height": null,
            "min_width": null,
            "object_fit": null,
            "object_position": null,
            "order": null,
            "overflow": null,
            "overflow_x": null,
            "overflow_y": null,
            "padding": null,
            "right": null,
            "top": null,
            "visibility": null,
            "width": null
          }
        },
        "4b4bc0757c5b4608a9de8962c8956701": {
          "model_module": "@jupyter-widgets/controls",
          "model_name": "DescriptionStyleModel",
          "model_module_version": "1.5.0",
          "state": {
            "_model_module": "@jupyter-widgets/controls",
            "_model_module_version": "1.5.0",
            "_model_name": "DescriptionStyleModel",
            "_view_count": null,
            "_view_module": "@jupyter-widgets/base",
            "_view_module_version": "1.2.0",
            "_view_name": "StyleView",
            "description_width": ""
          }
        },
        "a15416ff09664e0ca1e7985cf3073dc4": {
          "model_module": "@jupyter-widgets/base",
          "model_name": "LayoutModel",
          "model_module_version": "1.2.0",
          "state": {
            "_model_module": "@jupyter-widgets/base",
            "_model_module_version": "1.2.0",
            "_model_name": "LayoutModel",
            "_view_count": null,
            "_view_module": "@jupyter-widgets/base",
            "_view_module_version": "1.2.0",
            "_view_name": "LayoutView",
            "align_content": null,
            "align_items": null,
            "align_self": null,
            "border": null,
            "bottom": null,
            "display": null,
            "flex": null,
            "flex_flow": null,
            "grid_area": null,
            "grid_auto_columns": null,
            "grid_auto_flow": null,
            "grid_auto_rows": null,
            "grid_column": null,
            "grid_gap": null,
            "grid_row": null,
            "grid_template_areas": null,
            "grid_template_columns": null,
            "grid_template_rows": null,
            "height": null,
            "justify_content": null,
            "justify_items": null,
            "left": null,
            "margin": null,
            "max_height": null,
            "max_width": null,
            "min_height": null,
            "min_width": null,
            "object_fit": null,
            "object_position": null,
            "order": null,
            "overflow": null,
            "overflow_x": null,
            "overflow_y": null,
            "padding": null,
            "right": null,
            "top": null,
            "visibility": null,
            "width": null
          }
        },
        "3cb3a44fd1654242923973b8ea06d692": {
          "model_module": "@jupyter-widgets/controls",
          "model_name": "ProgressStyleModel",
          "model_module_version": "1.5.0",
          "state": {
            "_model_module": "@jupyter-widgets/controls",
            "_model_module_version": "1.5.0",
            "_model_name": "ProgressStyleModel",
            "_view_count": null,
            "_view_module": "@jupyter-widgets/base",
            "_view_module_version": "1.2.0",
            "_view_name": "StyleView",
            "bar_color": null,
            "description_width": ""
          }
        },
        "5ed2a9da599b407a9fa2f9640f3d16d3": {
          "model_module": "@jupyter-widgets/base",
          "model_name": "LayoutModel",
          "model_module_version": "1.2.0",
          "state": {
            "_model_module": "@jupyter-widgets/base",
            "_model_module_version": "1.2.0",
            "_model_name": "LayoutModel",
            "_view_count": null,
            "_view_module": "@jupyter-widgets/base",
            "_view_module_version": "1.2.0",
            "_view_name": "LayoutView",
            "align_content": null,
            "align_items": null,
            "align_self": null,
            "border": null,
            "bottom": null,
            "display": null,
            "flex": null,
            "flex_flow": null,
            "grid_area": null,
            "grid_auto_columns": null,
            "grid_auto_flow": null,
            "grid_auto_rows": null,
            "grid_column": null,
            "grid_gap": null,
            "grid_row": null,
            "grid_template_areas": null,
            "grid_template_columns": null,
            "grid_template_rows": null,
            "height": null,
            "justify_content": null,
            "justify_items": null,
            "left": null,
            "margin": null,
            "max_height": null,
            "max_width": null,
            "min_height": null,
            "min_width": null,
            "object_fit": null,
            "object_position": null,
            "order": null,
            "overflow": null,
            "overflow_x": null,
            "overflow_y": null,
            "padding": null,
            "right": null,
            "top": null,
            "visibility": null,
            "width": null
          }
        },
        "c6a19aa0a8654b92a70d943baed75836": {
          "model_module": "@jupyter-widgets/controls",
          "model_name": "DescriptionStyleModel",
          "model_module_version": "1.5.0",
          "state": {
            "_model_module": "@jupyter-widgets/controls",
            "_model_module_version": "1.5.0",
            "_model_name": "DescriptionStyleModel",
            "_view_count": null,
            "_view_module": "@jupyter-widgets/base",
            "_view_module_version": "1.2.0",
            "_view_name": "StyleView",
            "description_width": ""
          }
        },
        "6db95378509e4605a77a727380e7286e": {
          "model_module": "@jupyter-widgets/controls",
          "model_name": "HBoxModel",
          "model_module_version": "1.5.0",
          "state": {
            "_dom_classes": [],
            "_model_module": "@jupyter-widgets/controls",
            "_model_module_version": "1.5.0",
            "_model_name": "HBoxModel",
            "_view_count": null,
            "_view_module": "@jupyter-widgets/controls",
            "_view_module_version": "1.5.0",
            "_view_name": "HBoxView",
            "box_style": "",
            "children": [
              "IPY_MODEL_ce2a4e78167049ac8f3f187be9678670",
              "IPY_MODEL_c5c42771ecdb41b9b58e83e74a66dd87",
              "IPY_MODEL_3b2b09cc67624cbfaf9dda8034a8f790"
            ],
            "layout": "IPY_MODEL_4fcf6afd5b1447d6bbeed0563f003b5a"
          }
        },
        "ce2a4e78167049ac8f3f187be9678670": {
          "model_module": "@jupyter-widgets/controls",
          "model_name": "HTMLModel",
          "model_module_version": "1.5.0",
          "state": {
            "_dom_classes": [],
            "_model_module": "@jupyter-widgets/controls",
            "_model_module_version": "1.5.0",
            "_model_name": "HTMLModel",
            "_view_count": null,
            "_view_module": "@jupyter-widgets/controls",
            "_view_module_version": "1.5.0",
            "_view_name": "HTMLView",
            "description": "",
            "description_tooltip": null,
            "layout": "IPY_MODEL_8dfbcb3ee21f436aac7a88d544056216",
            "placeholder": "​",
            "style": "IPY_MODEL_7bf989aebd344bfe90719c9738c67ed4",
            "value": "100%"
          }
        },
        "c5c42771ecdb41b9b58e83e74a66dd87": {
          "model_module": "@jupyter-widgets/controls",
          "model_name": "FloatProgressModel",
          "model_module_version": "1.5.0",
          "state": {
            "_dom_classes": [],
            "_model_module": "@jupyter-widgets/controls",
            "_model_module_version": "1.5.0",
            "_model_name": "FloatProgressModel",
            "_view_count": null,
            "_view_module": "@jupyter-widgets/controls",
            "_view_module_version": "1.5.0",
            "_view_name": "ProgressView",
            "bar_style": "success",
            "description": "",
            "description_tooltip": null,
            "layout": "IPY_MODEL_cecf20cc3e9a4109921ef753d508e261",
            "max": 170498071,
            "min": 0,
            "orientation": "horizontal",
            "style": "IPY_MODEL_7ce786951a79404993de57706fcf5e0c",
            "value": 170498071
          }
        },
        "3b2b09cc67624cbfaf9dda8034a8f790": {
          "model_module": "@jupyter-widgets/controls",
          "model_name": "HTMLModel",
          "model_module_version": "1.5.0",
          "state": {
            "_dom_classes": [],
            "_model_module": "@jupyter-widgets/controls",
            "_model_module_version": "1.5.0",
            "_model_name": "HTMLModel",
            "_view_count": null,
            "_view_module": "@jupyter-widgets/controls",
            "_view_module_version": "1.5.0",
            "_view_name": "HTMLView",
            "description": "",
            "description_tooltip": null,
            "layout": "IPY_MODEL_b09825d15d394656aaa8d08194e40f48",
            "placeholder": "​",
            "style": "IPY_MODEL_c7341242577446a88f517b8980ce1532",
            "value": " 170498071/170498071 [00:13&lt;00:00, 14549436.46it/s]"
          }
        },
        "4fcf6afd5b1447d6bbeed0563f003b5a": {
          "model_module": "@jupyter-widgets/base",
          "model_name": "LayoutModel",
          "model_module_version": "1.2.0",
          "state": {
            "_model_module": "@jupyter-widgets/base",
            "_model_module_version": "1.2.0",
            "_model_name": "LayoutModel",
            "_view_count": null,
            "_view_module": "@jupyter-widgets/base",
            "_view_module_version": "1.2.0",
            "_view_name": "LayoutView",
            "align_content": null,
            "align_items": null,
            "align_self": null,
            "border": null,
            "bottom": null,
            "display": null,
            "flex": null,
            "flex_flow": null,
            "grid_area": null,
            "grid_auto_columns": null,
            "grid_auto_flow": null,
            "grid_auto_rows": null,
            "grid_column": null,
            "grid_gap": null,
            "grid_row": null,
            "grid_template_areas": null,
            "grid_template_columns": null,
            "grid_template_rows": null,
            "height": null,
            "justify_content": null,
            "justify_items": null,
            "left": null,
            "margin": null,
            "max_height": null,
            "max_width": null,
            "min_height": null,
            "min_width": null,
            "object_fit": null,
            "object_position": null,
            "order": null,
            "overflow": null,
            "overflow_x": null,
            "overflow_y": null,
            "padding": null,
            "right": null,
            "top": null,
            "visibility": null,
            "width": null
          }
        },
        "8dfbcb3ee21f436aac7a88d544056216": {
          "model_module": "@jupyter-widgets/base",
          "model_name": "LayoutModel",
          "model_module_version": "1.2.0",
          "state": {
            "_model_module": "@jupyter-widgets/base",
            "_model_module_version": "1.2.0",
            "_model_name": "LayoutModel",
            "_view_count": null,
            "_view_module": "@jupyter-widgets/base",
            "_view_module_version": "1.2.0",
            "_view_name": "LayoutView",
            "align_content": null,
            "align_items": null,
            "align_self": null,
            "border": null,
            "bottom": null,
            "display": null,
            "flex": null,
            "flex_flow": null,
            "grid_area": null,
            "grid_auto_columns": null,
            "grid_auto_flow": null,
            "grid_auto_rows": null,
            "grid_column": null,
            "grid_gap": null,
            "grid_row": null,
            "grid_template_areas": null,
            "grid_template_columns": null,
            "grid_template_rows": null,
            "height": null,
            "justify_content": null,
            "justify_items": null,
            "left": null,
            "margin": null,
            "max_height": null,
            "max_width": null,
            "min_height": null,
            "min_width": null,
            "object_fit": null,
            "object_position": null,
            "order": null,
            "overflow": null,
            "overflow_x": null,
            "overflow_y": null,
            "padding": null,
            "right": null,
            "top": null,
            "visibility": null,
            "width": null
          }
        },
        "7bf989aebd344bfe90719c9738c67ed4": {
          "model_module": "@jupyter-widgets/controls",
          "model_name": "DescriptionStyleModel",
          "model_module_version": "1.5.0",
          "state": {
            "_model_module": "@jupyter-widgets/controls",
            "_model_module_version": "1.5.0",
            "_model_name": "DescriptionStyleModel",
            "_view_count": null,
            "_view_module": "@jupyter-widgets/base",
            "_view_module_version": "1.2.0",
            "_view_name": "StyleView",
            "description_width": ""
          }
        },
        "cecf20cc3e9a4109921ef753d508e261": {
          "model_module": "@jupyter-widgets/base",
          "model_name": "LayoutModel",
          "model_module_version": "1.2.0",
          "state": {
            "_model_module": "@jupyter-widgets/base",
            "_model_module_version": "1.2.0",
            "_model_name": "LayoutModel",
            "_view_count": null,
            "_view_module": "@jupyter-widgets/base",
            "_view_module_version": "1.2.0",
            "_view_name": "LayoutView",
            "align_content": null,
            "align_items": null,
            "align_self": null,
            "border": null,
            "bottom": null,
            "display": null,
            "flex": null,
            "flex_flow": null,
            "grid_area": null,
            "grid_auto_columns": null,
            "grid_auto_flow": null,
            "grid_auto_rows": null,
            "grid_column": null,
            "grid_gap": null,
            "grid_row": null,
            "grid_template_areas": null,
            "grid_template_columns": null,
            "grid_template_rows": null,
            "height": null,
            "justify_content": null,
            "justify_items": null,
            "left": null,
            "margin": null,
            "max_height": null,
            "max_width": null,
            "min_height": null,
            "min_width": null,
            "object_fit": null,
            "object_position": null,
            "order": null,
            "overflow": null,
            "overflow_x": null,
            "overflow_y": null,
            "padding": null,
            "right": null,
            "top": null,
            "visibility": null,
            "width": null
          }
        },
        "7ce786951a79404993de57706fcf5e0c": {
          "model_module": "@jupyter-widgets/controls",
          "model_name": "ProgressStyleModel",
          "model_module_version": "1.5.0",
          "state": {
            "_model_module": "@jupyter-widgets/controls",
            "_model_module_version": "1.5.0",
            "_model_name": "ProgressStyleModel",
            "_view_count": null,
            "_view_module": "@jupyter-widgets/base",
            "_view_module_version": "1.2.0",
            "_view_name": "StyleView",
            "bar_color": null,
            "description_width": ""
          }
        },
        "b09825d15d394656aaa8d08194e40f48": {
          "model_module": "@jupyter-widgets/base",
          "model_name": "LayoutModel",
          "model_module_version": "1.2.0",
          "state": {
            "_model_module": "@jupyter-widgets/base",
            "_model_module_version": "1.2.0",
            "_model_name": "LayoutModel",
            "_view_count": null,
            "_view_module": "@jupyter-widgets/base",
            "_view_module_version": "1.2.0",
            "_view_name": "LayoutView",
            "align_content": null,
            "align_items": null,
            "align_self": null,
            "border": null,
            "bottom": null,
            "display": null,
            "flex": null,
            "flex_flow": null,
            "grid_area": null,
            "grid_auto_columns": null,
            "grid_auto_flow": null,
            "grid_auto_rows": null,
            "grid_column": null,
            "grid_gap": null,
            "grid_row": null,
            "grid_template_areas": null,
            "grid_template_columns": null,
            "grid_template_rows": null,
            "height": null,
            "justify_content": null,
            "justify_items": null,
            "left": null,
            "margin": null,
            "max_height": null,
            "max_width": null,
            "min_height": null,
            "min_width": null,
            "object_fit": null,
            "object_position": null,
            "order": null,
            "overflow": null,
            "overflow_x": null,
            "overflow_y": null,
            "padding": null,
            "right": null,
            "top": null,
            "visibility": null,
            "width": null
          }
        },
        "c7341242577446a88f517b8980ce1532": {
          "model_module": "@jupyter-widgets/controls",
          "model_name": "DescriptionStyleModel",
          "model_module_version": "1.5.0",
          "state": {
            "_model_module": "@jupyter-widgets/controls",
            "_model_module_version": "1.5.0",
            "_model_name": "DescriptionStyleModel",
            "_view_count": null,
            "_view_module": "@jupyter-widgets/base",
            "_view_module_version": "1.2.0",
            "_view_name": "StyleView",
            "description_width": ""
          }
        }
      }
    }
  },
  "cells": [
    {
      "cell_type": "markdown",
      "metadata": {
        "id": "view-in-github",
        "colab_type": "text"
      },
      "source": [
        "<a href=\"https://colab.research.google.com/github/ycapreddy/EVA8/blob/main/Assignment-8.ipynb\" target=\"_parent\"><img src=\"https://colab.research.google.com/assets/colab-badge.svg\" alt=\"Open In Colab\"/></a>"
      ]
    },
    {
      "cell_type": "markdown",
      "source": [
        "Run this [network](https://colab.research.google.com/drive/1qlewMtxcAJT6fIJdmMh8pSf2e-dh51Rw) \n",
        "\n",
        "Fix the network above:\n",
        "\n",
        "1. change the code such that it uses GPU and\n",
        "2. change the architecture to C1C2C3C40 (No MaxPooling, but 3 3x3 layers with stride of 2 instead) (If you can figure out how to use Dilated kernels here instead of MP or strided convolution, then 200pts extra!)\n",
        "3. total RF must be more than 44\n",
        "4. one of the layers must use Depthwise Separable Convolution\n",
        "5. one of the layers must use Dilated Convolution\n",
        "6. use GAP (compulsory):- add FC after GAP to target #of classes (optional)\n",
        "7. use albumentation library and apply:\n",
        ">\n",
        "\n",
        "> 1. horizontal flip\n",
        "> 2. shiftScaleRotate\n",
        "> 3. coarseDropout (max_holes = 1, max_height=16px, max_width=1, min_holes = 1, min_height=16px, min_width=16px, fill_value=(mean of your dataset), mask_fill_value = None)\n",
        "8. achieve 85% accuracy, as many epochs as you want. Total Params to be less than 200k."
      ],
      "metadata": {
        "id": "8hweeinpqfbR"
      }
    },
    {
      "cell_type": "code",
      "execution_count": 2,
      "metadata": {
        "id": "pRQaNOCZpNTi"
      },
      "outputs": [],
      "source": [
        "import torch.nn as nn\n",
        "import torch.nn.functional as F\n",
        "\n",
        "#depthwise separable convolution\n",
        "class DepthwiseSeparable(nn.Module):\n",
        "  def __init__(self, in_ch, out_ch, stride=1):\n",
        "    super(DepthwiseSeparable, self).__init__()\n",
        "    self.in_chan = in_ch\n",
        "    self.out_chan = out_ch\n",
        "\n",
        "    self.depthwise = nn.Sequential(\n",
        "          nn.Conv2d(in_channels=self.in_chan, out_channels=self.in_chan, kernel_size=(3, 3), padding=1, stride=stride, groups=self.in_chan, bias=False),\n",
        "          #pointwise\n",
        "          nn.Conv2d(in_channels=self.in_chan, out_channels=self.out_chan, kernel_size=(1,1)))\n",
        "\n",
        "  def forward(self, x):\n",
        "    x = self.depthwise(x)\n",
        "    return x\n",
        "\n",
        "class Net(nn.Module):\n",
        "    def __init__(self, drop=0.025):\n",
        "        super(Net, self).__init__()\n",
        "\n",
        "        self.convblock1 = nn.Sequential(\n",
        "            nn.Conv2d(in_channels=3, out_channels=32, kernel_size=(3, 3), padding=1, bias=False),  # Input: 32x32x3 | Output: 32x32x32 | RF: 3x3\n",
        "            nn.BatchNorm2d(32),\n",
        "            nn.ReLU(),\n",
        "            nn.Dropout(drop),\n",
        "\n",
        "            nn.Conv2d(in_channels=32, out_channels=32, kernel_size=(3, 3), padding=1, bias=False),   # Input: 32x32x32 | Output: 32x32x32 | RF: 5x5\n",
        "            nn.BatchNorm2d(32),\n",
        "            nn.ReLU(),\n",
        "            nn.Dropout(drop),\n",
        "        )\n",
        "\n",
        "        self.transblock1 =  nn.Sequential(\n",
        "            #Stride 2 conv\n",
        "            nn.Conv2d(in_channels=32, out_channels=32, kernel_size=(3, 3), padding=1, stride=2, bias=False),  # Input: 32x32x32 | Output: 16x16x32 | RF: 7x7\n",
        "            nn.BatchNorm2d(32),\n",
        "            nn.ReLU(),\n",
        "            nn.Dropout(drop),\n",
        "\n",
        "        )\n",
        "\n",
        "        self.convblock2 = nn.Sequential(\n",
        "            nn.Conv2d(in_channels=32, out_channels=64, kernel_size=(3, 3), padding=1, bias=False),   # Input: 16x16x32 | Output: 16x16x64 | RF: 11x11\n",
        "            nn.BatchNorm2d(64),\n",
        "            nn.ReLU(),\n",
        "            nn.Dropout(drop),  \n",
        "\n",
        "        ) \n",
        "\n",
        "        self.transblock2 =  nn.Sequential(\n",
        "            #Stride 2 conv\n",
        "            DepthwiseSeparable(64,64,2), # Input: 16x16x64 | Output: 8x8x64 | RF: 15x15\n",
        "            nn.BatchNorm2d(64),\n",
        "            nn.ReLU(),\n",
        "            nn.Dropout(drop),\n",
        "        )\n",
        "\n",
        "        self.convblock3 = nn.Sequential(\n",
        "            DepthwiseSeparable(64, 128), # Input: 8x8x64 | Output: 8x8x128 | RF: 23x23\n",
        "            # nn.Conv2d(in_channels=64, out_channels=128, kernel_size=(3, 3), padding=1, bias=False),\n",
        "            nn.BatchNorm2d(128),\n",
        "            nn.ReLU(),\n",
        "            nn.Dropout(drop),  \n",
        "            nn.Conv2d(in_channels=128, out_channels=32, kernel_size=(1, 1), bias=False), # Input: 8x8x128 | Output: 8x8x32 | RF: 23x23\n",
        "            nn.BatchNorm2d(32),\n",
        "            nn.ReLU(),\n",
        "            nn.Dropout(drop), \n",
        "\n",
        "        ) \n",
        "\n",
        "        self.transblock3 =  nn.Sequential(\n",
        "            nn.Conv2d(in_channels=32, out_channels=32, kernel_size=(3, 3), padding=1, dilation=2, bias=False), # Input: 8x8x128 | Output: 6x6x32 | RF: 39x39\n",
        "            nn.Conv2d(in_channels=32, out_channels=32, kernel_size=(3, 3), padding=1, dilation=2, bias=False), # Input: 6x6x32 | Output: 4x4x32 | RF: 55x55\n",
        "            nn.BatchNorm2d(32),\n",
        "            nn.ReLU(),\n",
        "            nn.Dropout(drop),\n",
        "        )\n",
        "\n",
        "        self.convblock4 = nn.Sequential(\n",
        "            nn.Conv2d(in_channels=32, out_channels=32, kernel_size=(3, 3), padding=1, bias=False), # Input: 4x4x32 | Output: 4x4x32 | RF: 63x63\n",
        "            nn.ReLU(),\n",
        "            nn.Conv2d(in_channels=32, out_channels=10, kernel_size=(3, 3), padding=1, bias=False), # Input: 4x4x32 | Output: 4x4x10 | RF: 71x71\n",
        "\n",
        "        ) \n",
        "\n",
        "        self.gap = nn.AvgPool2d(4)\n",
        "\n",
        "    def forward(self, x):\n",
        "        x =  self.transblock1(self.convblock1(x))\n",
        "        x =  self.transblock2(self.convblock2(x))\n",
        "        x =  self.transblock3(self.convblock3(x))\n",
        "        x =  self.convblock4(x)\n",
        "        x =  self.gap(x)\n",
        "        x = x.view(-1, 10)\n",
        "        \n",
        "        return F.log_softmax(x, dim=-1)"
      ]
    },
    {
      "cell_type": "code",
      "source": [
        "import matplotlib.pyplot as plt\n",
        "import numpy as np\n",
        "\n",
        "import albumentations as A\n",
        "from albumentations.pytorch import ToTensorV2\n",
        "\n",
        "import torch\n",
        "import torch.optim as optim\n",
        "from torchsummary import summary\n",
        "from torch.utils.data import Dataset, DataLoader\n",
        "\n",
        "import torchvision\n",
        "from torchvision import datasets, transforms\n",
        "from tqdm import tqdm"
      ],
      "metadata": {
        "id": "vfMCo1vByFnQ"
      },
      "execution_count": 3,
      "outputs": []
    },
    {
      "cell_type": "code",
      "source": [
        "# loading the dataset\n",
        "exp = datasets.CIFAR10('./data', train=True, download=True)\n",
        "exp_data = exp.data\n",
        "\n",
        "# Calculate the mean and std for normalization\n",
        "print('[Train]')\n",
        "print(' - Numpy Shape:', exp_data.shape)\n",
        "print(' - min:', np.min(exp_data, axis=(0,1,2)) / 255.)\n",
        "print(' - max:', np.max(exp_data, axis=(0,1,2)) / 255.)\n",
        "print(' - mean:', np.mean(exp_data, axis=(0,1,2)) / 255.)\n",
        "print(' - std:', np.std(exp_data, axis=(0,1,2)) / 255.)\n",
        "print(' - var:', np.var(exp_data, axis=(0,1,2)) / 255.)"
      ],
      "metadata": {
        "colab": {
          "base_uri": "https://localhost:8080/",
          "height": 205,
          "referenced_widgets": [
            "6db95378509e4605a77a727380e7286e",
            "ce2a4e78167049ac8f3f187be9678670",
            "c5c42771ecdb41b9b58e83e74a66dd87",
            "3b2b09cc67624cbfaf9dda8034a8f790",
            "4fcf6afd5b1447d6bbeed0563f003b5a",
            "8dfbcb3ee21f436aac7a88d544056216",
            "7bf989aebd344bfe90719c9738c67ed4",
            "cecf20cc3e9a4109921ef753d508e261",
            "7ce786951a79404993de57706fcf5e0c",
            "b09825d15d394656aaa8d08194e40f48",
            "c7341242577446a88f517b8980ce1532"
          ]
        },
        "id": "_nwdUeXCyKhr",
        "outputId": "7b4dd3b0-e577-4e28-df1d-8468e3558104"
      },
      "execution_count": 4,
      "outputs": [
        {
          "output_type": "stream",
          "name": "stdout",
          "text": [
            "Downloading https://www.cs.toronto.edu/~kriz/cifar-10-python.tar.gz to ./data/cifar-10-python.tar.gz\n"
          ]
        },
        {
          "output_type": "display_data",
          "data": {
            "text/plain": [
              "  0%|          | 0/170498071 [00:00<?, ?it/s]"
            ],
            "application/vnd.jupyter.widget-view+json": {
              "version_major": 2,
              "version_minor": 0,
              "model_id": "6db95378509e4605a77a727380e7286e"
            }
          },
          "metadata": {}
        },
        {
          "output_type": "stream",
          "name": "stdout",
          "text": [
            "Extracting ./data/cifar-10-python.tar.gz to ./data\n",
            "[Train]\n",
            " - Numpy Shape: (50000, 32, 32, 3)\n",
            " - min: [0. 0. 0.]\n",
            " - max: [1. 1. 1.]\n",
            " - mean: [0.49139968 0.48215841 0.44653091]\n",
            " - std: [0.24703223 0.24348513 0.26158784]\n",
            " - var: [15.56135559 15.11767693 17.44919073]\n"
          ]
        }
      ]
    },
    {
      "cell_type": "code",
      "source": [
        "exp.classes"
      ],
      "metadata": {
        "colab": {
          "base_uri": "https://localhost:8080/"
        },
        "id": "t0_IMZGVyMtc",
        "outputId": "9d90d868-2acf-41d6-dcf5-ae993f4b76f5"
      },
      "execution_count": 5,
      "outputs": [
        {
          "output_type": "execute_result",
          "data": {
            "text/plain": [
              "['airplane',\n",
              " 'automobile',\n",
              " 'bird',\n",
              " 'cat',\n",
              " 'deer',\n",
              " 'dog',\n",
              " 'frog',\n",
              " 'horse',\n",
              " 'ship',\n",
              " 'truck']"
            ]
          },
          "metadata": {},
          "execution_count": 5
        }
      ]
    },
    {
      "cell_type": "code",
      "source": [
        "def viz_data(cols=8, rows=5):\n",
        "  figure = plt.figure(figsize=(14, 10))\n",
        "  for i in range(1, cols * rows + 1):\n",
        "    img, label = exp[i]\n",
        "\n",
        "    figure.add_subplot(rows, cols, i)\n",
        "    plt.title(exp.classes[label])\n",
        "    plt.axis(\"off\")\n",
        "    plt.imshow(img, cmap=\"gray\")\n",
        "\n",
        "  plt.tight_layout()\n",
        "  plt.show()"
      ],
      "metadata": {
        "id": "nmPj0-NIyQBA"
      },
      "execution_count": 6,
      "outputs": []
    },
    {
      "cell_type": "code",
      "source": [
        "viz_data()\n"
      ],
      "metadata": {
        "colab": {
          "base_uri": "https://localhost:8080/",
          "height": 724
        },
        "id": "FGK5qB9yyVgH",
        "outputId": "e5fb20c0-f60d-44aa-c7e7-6b7526f9dbaf"
      },
      "execution_count": 7,
      "outputs": [
        {
          "output_type": "display_data",
          "data": {
            "text/plain": [
              "<Figure size 1008x720 with 40 Axes>"
            ],
            "image/png": "[encoded data removed]"
          },
          "metadata": {
            "needs_background": "light"
          }
        }
      ]
    },
    {
      "cell_type": "code",
      "source": [
        "def show_images(aug_dict, ncol=6):\n",
        "  nrow = len(aug_dict)\n",
        "\n",
        "  fig, axes = plt.subplots(ncol, nrow, figsize=( 3*nrow, 15), squeeze=False)\n",
        "  for i, (key, aug) in enumerate(aug_dict.items()):\n",
        "    for j in range(ncol):\n",
        "      ax = axes[j,i]\n",
        "      if j == 0:\n",
        "        ax.text(0.5, 0.5, key, horizontalalignment='center', verticalalignment='center', fontsize=15)\n",
        "        ax.get_xaxis().set_visible(False)\n",
        "        ax.get_yaxis().set_visible(False)\n",
        "        ax.axis('off')\n",
        "      else:\n",
        "        image, label = exp[j-1]\n",
        "        if aug is not None:\n",
        "          transform = A.Compose([aug])\n",
        "          image = np.array(image)\n",
        "          image = transform(image=image)['image']\n",
        "          \n",
        "        ax.imshow(image)\n",
        "        ax.set_title(f'{exp.classes[label]}')\n",
        "        ax.axis('off')\n",
        "\n",
        "  plt.tight_layout()\n",
        "  plt.show()"
      ],
      "metadata": {
        "id": "tPOjnGrLyWos"
      },
      "execution_count": 8,
      "outputs": []
    },
    {
      "cell_type": "code",
      "source": [
        "show_images({\n",
        "    'Original Image': None,\n",
        "    'Horizontal Flip': A.HorizontalFlip(always_apply=True),\n",
        "    'Vertical Flip': A.VerticalFlip(always_apply=True),\n",
        "    'Cut Out': A.CoarseDropout(max_holes=1, max_height=16, max_width=16, min_holes=1, min_height=16, \n",
        "                               min_width=16, fill_value=0.473363, mask_fill_value=None, always_apply=True),\n",
        "    'Gray Scale': A.ToGray(always_apply=True)\n",
        "})"
      ],
      "metadata": {
        "colab": {
          "base_uri": "https://localhost:8080/",
          "height": 1000
        },
        "id": "OWoaL5kuybpy",
        "outputId": "555288f4-e456-4ff5-cbe4-db2194b8f8e3"
      },
      "execution_count": 9,
      "outputs": [
        {
          "output_type": "display_data",
          "data": {
            "text/plain": [
              "<Figure size 1080x1080 with 30 Axes>"
            ],
            "image/png": "[encoded data removed]"
          },
          "metadata": {
            "needs_background": "light"
          }
        }
      ]
    },
    {
      "cell_type": "code",
      "source": [
        "# custom dataset class for albumentations library\n",
        "class AlbumentationImageDataset(Dataset):\n",
        "  def __init__(self, image_list, train= True):\n",
        "      self.image_list = image_list\n",
        "      self.aug = A.Compose({\n",
        "          A.Normalize((0.49139968, 0.48215841, 0.44653091), (0.24703223, 0.24348513, 0.26158784)),\n",
        "          A.HorizontalFlip(),\n",
        "          A.ShiftScaleRotate(),\n",
        "          A.CoarseDropout(1, 16, 16, 1, 16, 16,fill_value=0.473363, mask_fill_value=None),\n",
        "          A.ToGray()\n",
        "      })\n",
        "\n",
        "      self.norm = A.Compose({A.Normalize((0.49139968, 0.48215841, 0.44653091), (0.24703223, 0.24348513, 0.26158784)),\n",
        "      })\n",
        "      self.train = train\n",
        "        \n",
        "  def __len__(self):\n",
        "      return (len(self.image_list))\n",
        "\n",
        "  def __getitem__(self, i):\n",
        "      \n",
        "      image, label = self.image_list[i]\n",
        "      \n",
        "      if self.train:\n",
        "        #apply augmentation only for training\n",
        "        image = self.aug(image=np.array(image))['image']\n",
        "      else:\n",
        "        image = self.norm(image=np.array(image))['image']\n",
        "      image = np.transpose(image, (2, 0, 1)).astype(np.float32)\n",
        "      return torch.tensor(image, dtype=torch.float), label"
      ],
      "metadata": {
        "id": "p3dDNx7yydXU"
      },
      "execution_count": 10,
      "outputs": []
    },
    {
      "cell_type": "code",
      "source": [
        "SEED = 1\n",
        "\n",
        "# CUDA?\n",
        "cuda = torch.cuda.is_available()\n",
        "print(\"CUDA Available:\", cuda)\n",
        "\n",
        "# For reproducibility\n",
        "torch.manual_seed(SEED)\n",
        "\n",
        "if cuda:\n",
        "    torch.cuda.manual_seed(SEED)\n",
        "    BATCH_SIZE=64\n",
        "else:\n",
        "    BATCH_SIZE=64"
      ],
      "metadata": {
        "colab": {
          "base_uri": "https://localhost:8080/"
        },
        "id": "7ViBi3sMzu7d",
        "outputId": "533169a7-e3ad-4404-cc8f-49f1b2d16a74"
      },
      "execution_count": 11,
      "outputs": [
        {
          "output_type": "stream",
          "name": "stdout",
          "text": [
            "CUDA Available: True\n"
          ]
        }
      ]
    },
    {
      "cell_type": "code",
      "source": [
        "trainset = torchvision.datasets.CIFAR10(root='./data', train=True,\n",
        "                                        download=True )\n",
        "testset = torchvision.datasets.CIFAR10(root='./data', train=False,\n",
        "                                       download=True)\n",
        "\n",
        "\n",
        "train_loader = torch.utils.data.DataLoader(AlbumentationImageDataset(trainset, train=True), batch_size=BATCH_SIZE,\n",
        "                                          shuffle=True, num_workers=2)\n",
        "test_loader = torch.utils.data.DataLoader(AlbumentationImageDataset(testset, train=False), batch_size=BATCH_SIZE,\n",
        "                                          shuffle=False, num_workers=1)"
      ],
      "metadata": {
        "colab": {
          "base_uri": "https://localhost:8080/"
        },
        "id": "sNsYn7m5z38g",
        "outputId": "3a66069b-2b1d-44bc-9849-63761fcb7e41"
      },
      "execution_count": 12,
      "outputs": [
        {
          "output_type": "stream",
          "name": "stdout",
          "text": [
            "Files already downloaded and verified\n",
            "Files already downloaded and verified\n"
          ]
        }
      ]
    },
    {
      "cell_type": "code",
      "source": [
        "use_cuda = torch.cuda.is_available()\n",
        "device = torch.device(\"cuda\" if use_cuda else \"cpu\")\n",
        "print(device)\n",
        "net = Net(drop=0.0).to(device)\n",
        "summary(net, input_size=(3, 32, 32))"
      ],
      "metadata": {
        "colab": {
          "base_uri": "https://localhost:8080/"
        },
        "id": "E6BYEUFWz-rc",
        "outputId": "cc580aa3-6fcc-4ec0-9172-595816b814ab"
      },
      "execution_count": 13,
      "outputs": [
        {
          "output_type": "stream",
          "name": "stdout",
          "text": [
            "cuda\n",
            "----------------------------------------------------------------\n",
            "        Layer (type)               Output Shape         Param #\n",
            "================================================================\n",
            "            Conv2d-1           [-1, 32, 32, 32]             864\n",
            "       BatchNorm2d-2           [-1, 32, 32, 32]              64\n",
            "              ReLU-3           [-1, 32, 32, 32]               0\n",
            "           Dropout-4           [-1, 32, 32, 32]               0\n",
            "            Conv2d-5           [-1, 32, 32, 32]           9,216\n",
            "       BatchNorm2d-6           [-1, 32, 32, 32]              64\n",
            "              ReLU-7           [-1, 32, 32, 32]               0\n",
            "           Dropout-8           [-1, 32, 32, 32]               0\n",
            "            Conv2d-9           [-1, 32, 16, 16]           9,216\n",
            "      BatchNorm2d-10           [-1, 32, 16, 16]              64\n",
            "             ReLU-11           [-1, 32, 16, 16]               0\n",
            "          Dropout-12           [-1, 32, 16, 16]               0\n",
            "           Conv2d-13           [-1, 64, 16, 16]          18,432\n",
            "      BatchNorm2d-14           [-1, 64, 16, 16]             128\n",
            "             ReLU-15           [-1, 64, 16, 16]               0\n",
            "          Dropout-16           [-1, 64, 16, 16]               0\n",
            "           Conv2d-17             [-1, 64, 8, 8]             576\n",
            "           Conv2d-18             [-1, 64, 8, 8]           4,160\n",
            "DepthwiseSeparable-19             [-1, 64, 8, 8]               0\n",
            "      BatchNorm2d-20             [-1, 64, 8, 8]             128\n",
            "             ReLU-21             [-1, 64, 8, 8]               0\n",
            "          Dropout-22             [-1, 64, 8, 8]               0\n",
            "           Conv2d-23             [-1, 64, 8, 8]             576\n",
            "           Conv2d-24            [-1, 128, 8, 8]           8,320\n",
            "DepthwiseSeparable-25            [-1, 128, 8, 8]               0\n",
            "      BatchNorm2d-26            [-1, 128, 8, 8]             256\n",
            "             ReLU-27            [-1, 128, 8, 8]               0\n",
            "          Dropout-28            [-1, 128, 8, 8]               0\n",
            "           Conv2d-29             [-1, 32, 8, 8]           4,096\n",
            "      BatchNorm2d-30             [-1, 32, 8, 8]              64\n",
            "             ReLU-31             [-1, 32, 8, 8]               0\n",
            "          Dropout-32             [-1, 32, 8, 8]               0\n",
            "           Conv2d-33             [-1, 32, 6, 6]           9,216\n",
            "           Conv2d-34             [-1, 32, 4, 4]           9,216\n",
            "      BatchNorm2d-35             [-1, 32, 4, 4]              64\n",
            "             ReLU-36             [-1, 32, 4, 4]               0\n",
            "          Dropout-37             [-1, 32, 4, 4]               0\n",
            "           Conv2d-38             [-1, 32, 4, 4]           9,216\n",
            "             ReLU-39             [-1, 32, 4, 4]               0\n",
            "           Conv2d-40             [-1, 10, 4, 4]           2,880\n",
            "        AvgPool2d-41             [-1, 10, 1, 1]               0\n",
            "================================================================\n",
            "Total params: 86,816\n",
            "Trainable params: 86,816\n",
            "Non-trainable params: 0\n",
            "----------------------------------------------------------------\n",
            "Input size (MB): 0.01\n",
            "Forward/backward pass size (MB): 3.38\n",
            "Params size (MB): 0.33\n",
            "Estimated Total Size (MB): 3.72\n",
            "----------------------------------------------------------------\n"
          ]
        }
      ]
    },
    {
      "cell_type": "code",
      "source": [
        "def train(model, device, train_loader, optimizer, l1, scheduler):\n",
        "  model.train()\n",
        "  pbar = tqdm(train_loader)\n",
        "  correct = 0\n",
        "  processed = 0\n",
        "  num_loops = 0\n",
        "  train_loss = 0\n",
        "  for batch_idx, (data, target) in enumerate(pbar):\n",
        "    # get samples\n",
        "    data, target = data.to(device), target.to(device)\n",
        "\n",
        "    # Init\n",
        "    optimizer.zero_grad()\n",
        "    # In PyTorch, we need to set the gradients to zero before starting to do backpropragation because PyTorch \n",
        "    # accumulates the gradients on subsequent backward passes. Because of this, when you start your training loop, \n",
        "    # ideally you should zero out the gradients so that you do the parameter update correctly.\n",
        "\n",
        "    # Predict\n",
        "    y_pred = model(data)\n",
        "\n",
        "    # Calculate loss\n",
        "    loss = F.nll_loss(y_pred, target)\n",
        "    l1 = 0\n",
        "    lambda_l1 = 0.01\n",
        "    if l1:\n",
        "      for p in model.parameter():\n",
        "        l1 = l1 + p.abs().sum()\n",
        "    \n",
        "    loss = loss + lambda_l1*l1\n",
        "\n",
        "    # Backpropagation\n",
        "    loss.backward()\n",
        "    optimizer.step()\n",
        "\n",
        "    train_loss += loss.item()\n",
        "\n",
        "    # Update LR\n",
        "    scheduler.step()\n",
        "    \n",
        "    # Update pbar-tqdm\n",
        "    \n",
        "    pred = y_pred.argmax(dim=1, keepdim=True)  # get the index of the max log-probability\n",
        "    correct += pred.eq(target.view_as(pred)).sum().item()\n",
        "    processed += len(data)\n",
        "\n",
        "    num_loops += 1\n",
        "    pbar.set_description(desc= f'Batch_id={batch_idx} Loss={train_loss/num_loops:.5f} Accuracy={100*correct/processed:0.2f}')\n",
        "  \n",
        "  return 100*correct/processed, train_loss/num_loops\n",
        "\n",
        "def test(model, device, test_loader):\n",
        "    model.eval()\n",
        "    test_loss = 0\n",
        "    correct = 0\n",
        "    with torch.no_grad():\n",
        "        for data, target in test_loader:\n",
        "            data, target = data.to(device), target.to(device)\n",
        "            output = model(data)\n",
        "            test_loss += F.nll_loss(output, target, reduction='sum').item()  # sum up batch loss\n",
        "            pred = output.argmax(dim=1, keepdim=True)  # get the index of the max log-probability\n",
        "            correct += pred.eq(target.view_as(pred)).sum().item()\n",
        "\n",
        "    test_loss /= len(test_loader.dataset)\n",
        "\n",
        "    print('\\nTest set: Average loss: {:.4f}, Accuracy: {}/{} ({:.2f}%)\\n'.format(\n",
        "        test_loss, correct, len(test_loader.dataset),\n",
        "        100. * correct / len(test_loader.dataset)))\n",
        "    \n",
        "    \n",
        "    return 100. * correct / len(test_loader.dataset), test_loss\n",
        "\n",
        "def fit_model(net, NUM_EPOCHS=20, l1=False, l2=False):\n",
        "  training_acc, training_loss, testing_acc, testing_loss = list(), list(), list(), list()\n",
        "  \n",
        "  if l2:\n",
        "    optimizer = optim.SGD(net.parameters(), lr=0.001, momentum=0.9, weight_decay=1e-4)\n",
        "  else:\n",
        "    optimizer = optim.SGD(net.parameters(), lr=0.001, momentum=0.9)\n",
        "  scheduler = optim.lr_scheduler.OneCycleLR(optimizer, max_lr=0.017, epochs=NUM_EPOCHS, steps_per_epoch=len(train_loader))\n",
        "\n",
        "  for epoch in range(1,NUM_EPOCHS+1):\n",
        "      print(\"EPOCH:\", epoch)\n",
        "      train_acc, train_loss = train(net, device, train_loader, optimizer, l1, scheduler)\n",
        "      test_acc, test_loss = test(net, device, test_loader)\n",
        "\n",
        "      training_acc.append(train_acc)\n",
        "      training_loss.append(train_loss)\n",
        "      testing_acc.append(test_acc)\n",
        "      testing_loss.append(test_loss)\n",
        "      \n",
        "  return net, (training_acc, training_loss, testing_acc, testing_loss)"
      ],
      "metadata": {
        "id": "6uWl-Cbc0BSU"
      },
      "execution_count": 14,
      "outputs": []
    },
    {
      "cell_type": "code",
      "source": [
        "net, history = fit_model(net, NUM_EPOCHS=24)"
      ],
      "metadata": {
        "colab": {
          "base_uri": "https://localhost:8080/"
        },
        "id": "SyRygGlD0hTH",
        "outputId": "1a347b86-d2fe-41e2-839e-31bbc224a53a"
      },
      "execution_count": null,
      "outputs": [
        {
          "output_type": "stream",
          "name": "stdout",
          "text": [
            "EPOCH: 1\n"
          ]
        },
        {
          "output_type": "stream",
          "name": "stderr",
          "text": [
            "Batch_id=781 Loss=2.06376 Accuracy=21.91: 100%|██████████| 782/782 [00:21<00:00, 36.56it/s]\n"
          ]
        },
        {
          "output_type": "stream",
          "name": "stdout",
          "text": [
            "\n",
            "Test set: Average loss: 1.7033, Accuracy: 3787/10000 (37.87%)\n",
            "\n",
            "EPOCH: 2\n"
          ]
        },
        {
          "output_type": "stream",
          "name": "stderr",
          "text": [
            "Batch_id=781 Loss=1.66382 Accuracy=38.54: 100%|██████████| 782/782 [00:20<00:00, 37.38it/s]\n"
          ]
        },
        {
          "output_type": "stream",
          "name": "stdout",
          "text": [
            "\n",
            "Test set: Average loss: 1.4377, Accuracy: 4733/10000 (47.33%)\n",
            "\n",
            "EPOCH: 3\n"
          ]
        },
        {
          "output_type": "stream",
          "name": "stderr",
          "text": [
            "Batch_id=781 Loss=1.49997 Accuracy=45.68: 100%|██████████| 782/782 [00:21<00:00, 36.47it/s]\n"
          ]
        },
        {
          "output_type": "stream",
          "name": "stdout",
          "text": [
            "\n",
            "Test set: Average loss: 1.1908, Accuracy: 5773/10000 (57.73%)\n",
            "\n",
            "EPOCH: 4\n"
          ]
        },
        {
          "output_type": "stream",
          "name": "stderr",
          "text": [
            "Batch_id=781 Loss=1.34941 Accuracy=52.02: 100%|██████████| 782/782 [00:20<00:00, 37.60it/s]\n"
          ]
        },
        {
          "output_type": "stream",
          "name": "stdout",
          "text": [
            "\n",
            "Test set: Average loss: 1.1546, Accuracy: 6072/10000 (60.72%)\n",
            "\n",
            "EPOCH: 5\n"
          ]
        },
        {
          "output_type": "stream",
          "name": "stderr",
          "text": [
            "Batch_id=781 Loss=1.26585 Accuracy=55.49: 100%|██████████| 782/782 [00:19<00:00, 39.27it/s]\n"
          ]
        },
        {
          "output_type": "stream",
          "name": "stdout",
          "text": [
            "\n",
            "Test set: Average loss: 0.9954, Accuracy: 6584/10000 (65.84%)\n",
            "\n",
            "EPOCH: 6\n"
          ]
        },
        {
          "output_type": "stream",
          "name": "stderr",
          "text": [
            "Batch_id=781 Loss=1.19787 Accuracy=57.88: 100%|██████████| 782/782 [00:20<00:00, 38.27it/s]\n"
          ]
        },
        {
          "output_type": "stream",
          "name": "stdout",
          "text": [
            "\n",
            "Test set: Average loss: 0.8838, Accuracy: 6912/10000 (69.12%)\n",
            "\n",
            "EPOCH: 7\n"
          ]
        },
        {
          "output_type": "stream",
          "name": "stderr",
          "text": [
            "Batch_id=781 Loss=1.14498 Accuracy=59.85: 100%|██████████| 782/782 [00:21<00:00, 37.18it/s]\n"
          ]
        },
        {
          "output_type": "stream",
          "name": "stdout",
          "text": [
            "\n",
            "Test set: Average loss: 0.9066, Accuracy: 6857/10000 (68.57%)\n",
            "\n",
            "EPOCH: 8\n"
          ]
        },
        {
          "output_type": "stream",
          "name": "stderr",
          "text": [
            "Batch_id=781 Loss=1.09889 Accuracy=61.79: 100%|██████████| 782/782 [00:21<00:00, 36.95it/s]\n"
          ]
        },
        {
          "output_type": "stream",
          "name": "stdout",
          "text": [
            "\n",
            "Test set: Average loss: 0.7925, Accuracy: 7230/10000 (72.30%)\n",
            "\n",
            "EPOCH: 9\n"
          ]
        },
        {
          "output_type": "stream",
          "name": "stderr",
          "text": [
            "Batch_id=781 Loss=1.06387 Accuracy=62.86: 100%|██████████| 782/782 [00:21<00:00, 36.75it/s]\n"
          ]
        },
        {
          "output_type": "stream",
          "name": "stdout",
          "text": [
            "\n",
            "Test set: Average loss: 0.8141, Accuracy: 7209/10000 (72.09%)\n",
            "\n",
            "EPOCH: 10\n"
          ]
        },
        {
          "output_type": "stream",
          "name": "stderr",
          "text": [
            "Batch_id=781 Loss=1.03424 Accuracy=63.79: 100%|██████████| 782/782 [00:21<00:00, 36.76it/s]\n"
          ]
        },
        {
          "output_type": "stream",
          "name": "stdout",
          "text": [
            "\n",
            "Test set: Average loss: 0.7158, Accuracy: 7502/10000 (75.02%)\n",
            "\n",
            "EPOCH: 11\n"
          ]
        },
        {
          "output_type": "stream",
          "name": "stderr",
          "text": [
            "Batch_id=781 Loss=1.01017 Accuracy=64.57: 100%|██████████| 782/782 [00:19<00:00, 39.44it/s]\n"
          ]
        },
        {
          "output_type": "stream",
          "name": "stdout",
          "text": [
            "\n",
            "Test set: Average loss: 0.7361, Accuracy: 7535/10000 (75.35%)\n",
            "\n",
            "EPOCH: 12\n"
          ]
        },
        {
          "output_type": "stream",
          "name": "stderr",
          "text": [
            "Batch_id=781 Loss=0.98765 Accuracy=65.76: 100%|██████████| 782/782 [00:19<00:00, 39.21it/s]\n"
          ]
        },
        {
          "output_type": "stream",
          "name": "stdout",
          "text": [
            "\n",
            "Test set: Average loss: 0.8026, Accuracy: 7237/10000 (72.37%)\n",
            "\n",
            "EPOCH: 13\n"
          ]
        },
        {
          "output_type": "stream",
          "name": "stderr",
          "text": [
            "Batch_id=781 Loss=0.96687 Accuracy=66.19: 100%|██████████| 782/782 [00:21<00:00, 36.62it/s]\n"
          ]
        },
        {
          "output_type": "stream",
          "name": "stdout",
          "text": [
            "\n",
            "Test set: Average loss: 0.7572, Accuracy: 7478/10000 (74.78%)\n",
            "\n",
            "EPOCH: 14\n"
          ]
        },
        {
          "output_type": "stream",
          "name": "stderr",
          "text": [
            "Batch_id=781 Loss=0.94316 Accuracy=67.02: 100%|██████████| 782/782 [00:21<00:00, 36.70it/s]\n"
          ]
        },
        {
          "output_type": "stream",
          "name": "stdout",
          "text": [
            "\n",
            "Test set: Average loss: 0.6525, Accuracy: 7753/10000 (77.53%)\n",
            "\n",
            "EPOCH: 15\n"
          ]
        },
        {
          "output_type": "stream",
          "name": "stderr",
          "text": [
            "Batch_id=781 Loss=0.92469 Accuracy=67.61: 100%|██████████| 782/782 [00:21<00:00, 36.79it/s]\n"
          ]
        },
        {
          "output_type": "stream",
          "name": "stdout",
          "text": [
            "\n",
            "Test set: Average loss: 0.6152, Accuracy: 7896/10000 (78.96%)\n",
            "\n",
            "EPOCH: 16\n"
          ]
        },
        {
          "output_type": "stream",
          "name": "stderr",
          "text": [
            "Batch_id=781 Loss=0.90284 Accuracy=68.53: 100%|██████████| 782/782 [00:21<00:00, 37.12it/s]\n"
          ]
        },
        {
          "output_type": "stream",
          "name": "stdout",
          "text": [
            "\n",
            "Test set: Average loss: 0.6352, Accuracy: 7852/10000 (78.52%)\n",
            "\n",
            "EPOCH: 17\n"
          ]
        },
        {
          "output_type": "stream",
          "name": "stderr",
          "text": [
            "Batch_id=259 Loss=0.88741 Accuracy=69.19:  33%|███▎      | 260/782 [00:06<00:13, 39.85it/s]"
          ]
        }
      ]
    },
    {
      "cell_type": "code",
      "source": [
        "import torch.nn as nn\n",
        "import torch.nn.functional as F\n",
        "\n",
        "#depthwise separable convolution\n",
        "class DepthwiseSeparable(nn.Module):\n",
        "  def __init__(self, in_ch, out_ch, stride=1):\n",
        "    super(DepthwiseSeparable, self).__init__()\n",
        "    self.in_chan = in_ch\n",
        "    self.out_chan = out_ch\n",
        "\n",
        "    self.depthwise = nn.Sequential(\n",
        "          nn.Conv2d(in_channels=self.in_chan, out_channels=self.in_chan, kernel_size=(3, 3), padding=1, stride=stride, groups=self.in_chan, bias=False),\n",
        "          #pointwise\n",
        "          nn.Conv2d(in_channels=self.in_chan, out_channels=self.out_chan, kernel_size=(1,1)))\n",
        "\n",
        "  def forward(self, x):\n",
        "    x = self.depthwise(x)\n",
        "    return x\n",
        "\n",
        "class Net2(nn.Module):\n",
        "    def __init__(self, drop=0.025):\n",
        "        super(Net2, self).__init__()\n",
        "\n",
        "        self.convblock1 = nn.Sequential(\n",
        "            nn.Conv2d(in_channels=3, out_channels=32, kernel_size=(3, 3), padding=1, bias=False),\n",
        "            nn.BatchNorm2d(32),\n",
        "            nn.ReLU(),\n",
        "            nn.Dropout(drop),\n",
        "            DepthwiseSeparable(32,32,2), \n",
        "            nn.BatchNorm2d(32),\n",
        "            nn.ReLU(),\n",
        "            nn.Dropout(drop),\n",
        "        )\n",
        "\n",
        "        self.convblock2 = nn.Sequential(\n",
        "            nn.Conv2d(in_channels=32, out_channels=64, kernel_size=(3, 3), padding=1, bias=False),\n",
        "            nn.BatchNorm2d(64),\n",
        "            nn.ReLU(),\n",
        "            nn.Dropout(drop),\n",
        "            DepthwiseSeparable(64,64,2), \n",
        "            nn.BatchNorm2d(64),\n",
        "            nn.ReLU(),\n",
        "            nn.Dropout(drop),\n",
        "        )\n",
        "\n",
        "        self.convblock3 =  nn.Sequential(\n",
        "            nn.Conv2d(in_channels=64, out_channels=64, kernel_size=(3, 3), padding=1, dilation=2, bias=False),\n",
        "            nn.Conv2d(in_channels=64, out_channels=64, kernel_size=(3, 3), padding=1, dilation=2, bias=False),\n",
        "            nn.BatchNorm2d(64),\n",
        "            nn.ReLU(),\n",
        "            nn.Dropout(drop),\n",
        "        )\n",
        "\n",
        "        self.convblock4 = nn.Sequential(\n",
        "            nn.Conv2d(in_channels=64, out_channels=32, kernel_size=(3, 3), padding=1, bias=False), \n",
        "            nn.ReLU(),\n",
        "            nn.Conv2d(in_channels=32, out_channels=10, kernel_size=(3, 3), padding=1, bias=False), \n",
        "\n",
        "        ) \n",
        "\n",
        "        self.gap = nn.AvgPool2d(4)\n",
        "\n",
        "    def forward(self, x):\n",
        "        x =  self.convblock1(x)\n",
        "        #print(x.shape)\n",
        "        x =  self.convblock2(x)\n",
        "        #print(x.shape)\n",
        "        x =  self.convblock3(x)\n",
        "        #print(x.shape)\n",
        "        x =  self.convblock4(x)\n",
        "        #print(x.shape)\n",
        "        x =  self.gap(x)\n",
        "        x = x.view(-1, 10)\n",
        "        \n",
        "        return F.log_softmax(x, dim=-1)"
      ],
      "metadata": {
        "id": "x7P8ATeM0qPk"
      },
      "execution_count": null,
      "outputs": []
    },
    {
      "cell_type": "code",
      "source": [
        "use_cuda = torch.cuda.is_available()\n",
        "device = torch.device(\"cuda\" if use_cuda else \"cpu\")\n",
        "print(device)\n",
        "net2 = Net2(drop=0.0).to(device)\n",
        "summary(net2, input_size=(3, 32, 32))"
      ],
      "metadata": {
        "colab": {
          "base_uri": "https://localhost:8080/"
        },
        "id": "z9Z7K2Ul6Zqe",
        "outputId": "21256858-f791-4c50-edfc-3b148956b2dc"
      },
      "execution_count": null,
      "outputs": [
        {
          "output_type": "stream",
          "name": "stdout",
          "text": [
            "cuda\n",
            "----------------------------------------------------------------\n",
            "        Layer (type)               Output Shape         Param #\n",
            "================================================================\n",
            "            Conv2d-1           [-1, 32, 32, 32]             864\n",
            "       BatchNorm2d-2           [-1, 32, 32, 32]              64\n",
            "              ReLU-3           [-1, 32, 32, 32]               0\n",
            "           Dropout-4           [-1, 32, 32, 32]               0\n",
            "            Conv2d-5           [-1, 32, 16, 16]             288\n",
            "            Conv2d-6           [-1, 32, 16, 16]           1,056\n",
            "DepthwiseSeparable-7           [-1, 32, 16, 16]               0\n",
            "       BatchNorm2d-8           [-1, 32, 16, 16]              64\n",
            "              ReLU-9           [-1, 32, 16, 16]               0\n",
            "          Dropout-10           [-1, 32, 16, 16]               0\n",
            "           Conv2d-11           [-1, 64, 16, 16]          18,432\n",
            "      BatchNorm2d-12           [-1, 64, 16, 16]             128\n",
            "             ReLU-13           [-1, 64, 16, 16]               0\n",
            "          Dropout-14           [-1, 64, 16, 16]               0\n",
            "           Conv2d-15             [-1, 64, 8, 8]             576\n",
            "           Conv2d-16             [-1, 64, 8, 8]           4,160\n",
            "DepthwiseSeparable-17             [-1, 64, 8, 8]               0\n",
            "      BatchNorm2d-18             [-1, 64, 8, 8]             128\n",
            "             ReLU-19             [-1, 64, 8, 8]               0\n",
            "          Dropout-20             [-1, 64, 8, 8]               0\n",
            "           Conv2d-21             [-1, 64, 6, 6]          36,864\n",
            "           Conv2d-22             [-1, 64, 4, 4]          36,864\n",
            "      BatchNorm2d-23             [-1, 64, 4, 4]             128\n",
            "             ReLU-24             [-1, 64, 4, 4]               0\n",
            "          Dropout-25             [-1, 64, 4, 4]               0\n",
            "           Conv2d-26             [-1, 32, 4, 4]          18,432\n",
            "             ReLU-27             [-1, 32, 4, 4]               0\n",
            "           Conv2d-28             [-1, 10, 4, 4]           2,880\n",
            "        AvgPool2d-29             [-1, 10, 1, 1]               0\n",
            "================================================================\n",
            "Total params: 120,928\n",
            "Trainable params: 120,928\n",
            "Non-trainable params: 0\n",
            "----------------------------------------------------------------\n",
            "Input size (MB): 0.01\n",
            "Forward/backward pass size (MB): 2.12\n",
            "Params size (MB): 0.46\n",
            "Estimated Total Size (MB): 2.59\n",
            "----------------------------------------------------------------\n"
          ]
        }
      ]
    },
    {
      "cell_type": "code",
      "source": [
        "net2, history = fit_model(net2, NUM_EPOCHS=30)"
      ],
      "metadata": {
        "colab": {
          "base_uri": "https://localhost:8080/"
        },
        "id": "xLWDw8aO6tFs",
        "outputId": "7e5d8a53-31e2-4f61-91c9-8280471462c9"
      },
      "execution_count": null,
      "outputs": [
        {
          "output_type": "stream",
          "name": "stdout",
          "text": [
            "EPOCH: 1\n"
          ]
        },
        {
          "output_type": "stream",
          "name": "stderr",
          "text": [
            "Batch_id=781 Loss=2.04842 Accuracy=23.56: 100%|██████████| 782/782 [00:18<00:00, 42.71it/s]\n"
          ]
        },
        {
          "output_type": "stream",
          "name": "stdout",
          "text": [
            "\n",
            "Test set: Average loss: 1.5836, Accuracy: 4043/10000 (40.43%)\n",
            "\n",
            "EPOCH: 2\n"
          ]
        },
        {
          "output_type": "stream",
          "name": "stderr",
          "text": [
            "Batch_id=781 Loss=1.65063 Accuracy=39.34: 100%|██████████| 782/782 [00:19<00:00, 40.74it/s]\n"
          ]
        },
        {
          "output_type": "stream",
          "name": "stdout",
          "text": [
            "\n",
            "Test set: Average loss: 1.3267, Accuracy: 5016/10000 (50.16%)\n",
            "\n",
            "EPOCH: 3\n"
          ]
        },
        {
          "output_type": "stream",
          "name": "stderr",
          "text": [
            "Batch_id=781 Loss=1.48775 Accuracy=46.64: 100%|██████████| 782/782 [00:20<00:00, 38.76it/s]\n"
          ]
        },
        {
          "output_type": "stream",
          "name": "stdout",
          "text": [
            "\n",
            "Test set: Average loss: 1.2172, Accuracy: 5714/10000 (57.14%)\n",
            "\n",
            "EPOCH: 4\n"
          ]
        },
        {
          "output_type": "stream",
          "name": "stderr",
          "text": [
            "Batch_id=781 Loss=1.38401 Accuracy=50.72: 100%|██████████| 782/782 [00:19<00:00, 39.12it/s]\n"
          ]
        },
        {
          "output_type": "stream",
          "name": "stdout",
          "text": [
            "\n",
            "Test set: Average loss: 1.1281, Accuracy: 6076/10000 (60.76%)\n",
            "\n",
            "EPOCH: 5\n"
          ]
        },
        {
          "output_type": "stream",
          "name": "stderr",
          "text": [
            "Batch_id=781 Loss=1.30888 Accuracy=53.58: 100%|██████████| 782/782 [00:19<00:00, 40.79it/s]\n"
          ]
        },
        {
          "output_type": "stream",
          "name": "stdout",
          "text": [
            "\n",
            "Test set: Average loss: 1.1639, Accuracy: 6038/10000 (60.38%)\n",
            "\n",
            "EPOCH: 6\n"
          ]
        },
        {
          "output_type": "stream",
          "name": "stderr",
          "text": [
            "Batch_id=781 Loss=1.25097 Accuracy=55.72: 100%|██████████| 782/782 [00:19<00:00, 40.32it/s]\n"
          ]
        },
        {
          "output_type": "stream",
          "name": "stdout",
          "text": [
            "\n",
            "Test set: Average loss: 0.9627, Accuracy: 6668/10000 (66.68%)\n",
            "\n",
            "EPOCH: 7\n"
          ]
        },
        {
          "output_type": "stream",
          "name": "stderr",
          "text": [
            "Batch_id=781 Loss=1.19707 Accuracy=57.69: 100%|██████████| 782/782 [00:19<00:00, 39.26it/s]\n"
          ]
        },
        {
          "output_type": "stream",
          "name": "stdout",
          "text": [
            "\n",
            "Test set: Average loss: 0.8515, Accuracy: 7044/10000 (70.44%)\n",
            "\n",
            "EPOCH: 8\n"
          ]
        },
        {
          "output_type": "stream",
          "name": "stderr",
          "text": [
            "Batch_id=781 Loss=1.16033 Accuracy=58.90: 100%|██████████| 782/782 [00:19<00:00, 41.07it/s]\n"
          ]
        },
        {
          "output_type": "stream",
          "name": "stdout",
          "text": [
            "\n",
            "Test set: Average loss: 0.9690, Accuracy: 6772/10000 (67.72%)\n",
            "\n",
            "EPOCH: 9\n"
          ]
        },
        {
          "output_type": "stream",
          "name": "stderr",
          "text": [
            "Batch_id=781 Loss=1.11467 Accuracy=61.00: 100%|██████████| 782/782 [00:19<00:00, 41.15it/s]\n"
          ]
        },
        {
          "output_type": "stream",
          "name": "stdout",
          "text": [
            "\n",
            "Test set: Average loss: 0.8076, Accuracy: 7202/10000 (72.02%)\n",
            "\n",
            "EPOCH: 10\n"
          ]
        },
        {
          "output_type": "stream",
          "name": "stderr",
          "text": [
            "Batch_id=781 Loss=1.08594 Accuracy=61.90: 100%|██████████| 782/782 [00:20<00:00, 38.76it/s]\n"
          ]
        },
        {
          "output_type": "stream",
          "name": "stdout",
          "text": [
            "\n",
            "Test set: Average loss: 0.8009, Accuracy: 7177/10000 (71.77%)\n",
            "\n",
            "EPOCH: 11\n"
          ]
        },
        {
          "output_type": "stream",
          "name": "stderr",
          "text": [
            "Batch_id=781 Loss=1.05754 Accuracy=62.52: 100%|██████████| 782/782 [00:19<00:00, 39.56it/s]\n"
          ]
        },
        {
          "output_type": "stream",
          "name": "stdout",
          "text": [
            "\n",
            "Test set: Average loss: 0.8282, Accuracy: 7131/10000 (71.31%)\n",
            "\n",
            "EPOCH: 12\n"
          ]
        },
        {
          "output_type": "stream",
          "name": "stderr",
          "text": [
            "Batch_id=781 Loss=1.03326 Accuracy=63.47: 100%|██████████| 782/782 [00:18<00:00, 41.31it/s]\n"
          ]
        },
        {
          "output_type": "stream",
          "name": "stdout",
          "text": [
            "\n",
            "Test set: Average loss: 0.7148, Accuracy: 7520/10000 (75.20%)\n",
            "\n",
            "EPOCH: 13\n"
          ]
        },
        {
          "output_type": "stream",
          "name": "stderr",
          "text": [
            "Batch_id=781 Loss=1.00582 Accuracy=64.71: 100%|██████████| 782/782 [00:19<00:00, 39.79it/s]\n"
          ]
        },
        {
          "output_type": "stream",
          "name": "stdout",
          "text": [
            "\n",
            "Test set: Average loss: 0.7071, Accuracy: 7562/10000 (75.62%)\n",
            "\n",
            "EPOCH: 14\n"
          ]
        },
        {
          "output_type": "stream",
          "name": "stderr",
          "text": [
            "Batch_id=781 Loss=0.98660 Accuracy=65.27: 100%|██████████| 782/782 [00:20<00:00, 38.51it/s]\n"
          ]
        },
        {
          "output_type": "stream",
          "name": "stdout",
          "text": [
            "\n",
            "Test set: Average loss: 0.7294, Accuracy: 7477/10000 (74.77%)\n",
            "\n",
            "EPOCH: 15\n"
          ]
        },
        {
          "output_type": "stream",
          "name": "stderr",
          "text": [
            "Batch_id=781 Loss=0.97610 Accuracy=65.75: 100%|██████████| 782/782 [00:23<00:00, 33.72it/s]\n"
          ]
        },
        {
          "output_type": "stream",
          "name": "stdout",
          "text": [
            "\n",
            "Test set: Average loss: 0.6867, Accuracy: 7654/10000 (76.54%)\n",
            "\n",
            "EPOCH: 16\n"
          ]
        },
        {
          "output_type": "stream",
          "name": "stderr",
          "text": [
            "Batch_id=781 Loss=0.95845 Accuracy=66.52: 100%|██████████| 782/782 [00:23<00:00, 33.78it/s]\n"
          ]
        },
        {
          "output_type": "stream",
          "name": "stdout",
          "text": [
            "\n",
            "Test set: Average loss: 0.6620, Accuracy: 7694/10000 (76.94%)\n",
            "\n",
            "EPOCH: 17\n"
          ]
        },
        {
          "output_type": "stream",
          "name": "stderr",
          "text": [
            "Batch_id=781 Loss=0.93959 Accuracy=67.06: 100%|██████████| 782/782 [00:23<00:00, 33.68it/s]\n"
          ]
        },
        {
          "output_type": "stream",
          "name": "stdout",
          "text": [
            "\n",
            "Test set: Average loss: 0.6634, Accuracy: 7729/10000 (77.29%)\n",
            "\n",
            "EPOCH: 18\n"
          ]
        },
        {
          "output_type": "stream",
          "name": "stderr",
          "text": [
            "Batch_id=781 Loss=0.93041 Accuracy=67.45: 100%|██████████| 782/782 [00:23<00:00, 32.65it/s]\n"
          ]
        },
        {
          "output_type": "stream",
          "name": "stdout",
          "text": [
            "\n",
            "Test set: Average loss: 0.6604, Accuracy: 7711/10000 (77.11%)\n",
            "\n",
            "EPOCH: 19\n"
          ]
        },
        {
          "output_type": "stream",
          "name": "stderr",
          "text": [
            "Batch_id=781 Loss=0.91264 Accuracy=68.08: 100%|██████████| 782/782 [00:19<00:00, 39.52it/s]\n"
          ]
        },
        {
          "output_type": "stream",
          "name": "stdout",
          "text": [
            "\n",
            "Test set: Average loss: 0.5981, Accuracy: 7923/10000 (79.23%)\n",
            "\n",
            "EPOCH: 20\n"
          ]
        },
        {
          "output_type": "stream",
          "name": "stderr",
          "text": [
            "Batch_id=781 Loss=0.89785 Accuracy=68.56: 100%|██████████| 782/782 [00:19<00:00, 39.62it/s]\n"
          ]
        },
        {
          "output_type": "stream",
          "name": "stdout",
          "text": [
            "\n",
            "Test set: Average loss: 0.6108, Accuracy: 7888/10000 (78.88%)\n",
            "\n",
            "EPOCH: 21\n"
          ]
        },
        {
          "output_type": "stream",
          "name": "stderr",
          "text": [
            "Batch_id=781 Loss=0.88032 Accuracy=69.15: 100%|██████████| 782/782 [00:23<00:00, 32.67it/s]\n"
          ]
        },
        {
          "output_type": "stream",
          "name": "stdout",
          "text": [
            "\n",
            "Test set: Average loss: 0.5814, Accuracy: 8007/10000 (80.07%)\n",
            "\n",
            "EPOCH: 22\n"
          ]
        },
        {
          "output_type": "stream",
          "name": "stderr",
          "text": [
            "Batch_id=781 Loss=0.87319 Accuracy=69.17: 100%|██████████| 782/782 [00:21<00:00, 37.04it/s]\n"
          ]
        },
        {
          "output_type": "stream",
          "name": "stdout",
          "text": [
            "\n",
            "Test set: Average loss: 0.5825, Accuracy: 7995/10000 (79.95%)\n",
            "\n",
            "EPOCH: 23\n"
          ]
        },
        {
          "output_type": "stream",
          "name": "stderr",
          "text": [
            "Batch_id=781 Loss=0.85149 Accuracy=70.04: 100%|██████████| 782/782 [00:20<00:00, 38.81it/s]\n"
          ]
        },
        {
          "output_type": "stream",
          "name": "stdout",
          "text": [
            "\n",
            "Test set: Average loss: 0.5793, Accuracy: 7996/10000 (79.96%)\n",
            "\n",
            "EPOCH: 24\n"
          ]
        },
        {
          "output_type": "stream",
          "name": "stderr",
          "text": [
            "Batch_id=781 Loss=0.84133 Accuracy=70.58: 100%|██████████| 782/782 [00:21<00:00, 36.80it/s]\n"
          ]
        },
        {
          "output_type": "stream",
          "name": "stdout",
          "text": [
            "\n",
            "Test set: Average loss: 0.5835, Accuracy: 8054/10000 (80.54%)\n",
            "\n",
            "EPOCH: 25\n"
          ]
        },
        {
          "output_type": "stream",
          "name": "stderr",
          "text": [
            "Batch_id=781 Loss=0.82617 Accuracy=70.74: 100%|██████████| 782/782 [00:20<00:00, 38.18it/s]\n"
          ]
        },
        {
          "output_type": "stream",
          "name": "stdout",
          "text": [
            "\n",
            "Test set: Average loss: 0.5435, Accuracy: 8167/10000 (81.67%)\n",
            "\n",
            "EPOCH: 26\n"
          ]
        },
        {
          "output_type": "stream",
          "name": "stderr",
          "text": [
            "Batch_id=781 Loss=0.80794 Accuracy=71.49: 100%|██████████| 782/782 [00:19<00:00, 40.41it/s]\n"
          ]
        },
        {
          "output_type": "stream",
          "name": "stdout",
          "text": [
            "\n",
            "Test set: Average loss: 0.5445, Accuracy: 8110/10000 (81.10%)\n",
            "\n",
            "EPOCH: 27\n"
          ]
        },
        {
          "output_type": "stream",
          "name": "stderr",
          "text": [
            "Batch_id=781 Loss=0.79961 Accuracy=71.73: 100%|██████████| 782/782 [00:19<00:00, 40.07it/s]\n"
          ]
        },
        {
          "output_type": "stream",
          "name": "stdout",
          "text": [
            "\n",
            "Test set: Average loss: 0.5388, Accuracy: 8157/10000 (81.57%)\n",
            "\n",
            "EPOCH: 28\n"
          ]
        },
        {
          "output_type": "stream",
          "name": "stderr",
          "text": [
            "Batch_id=781 Loss=0.78783 Accuracy=72.51: 100%|██████████| 782/782 [00:20<00:00, 38.02it/s]\n"
          ]
        },
        {
          "output_type": "stream",
          "name": "stdout",
          "text": [
            "\n",
            "Test set: Average loss: 0.5204, Accuracy: 8235/10000 (82.35%)\n",
            "\n",
            "EPOCH: 29\n"
          ]
        },
        {
          "output_type": "stream",
          "name": "stderr",
          "text": [
            "Batch_id=781 Loss=0.77611 Accuracy=72.62: 100%|██████████| 782/782 [00:20<00:00, 38.18it/s]\n"
          ]
        },
        {
          "output_type": "stream",
          "name": "stdout",
          "text": [
            "\n",
            "Test set: Average loss: 0.5265, Accuracy: 8227/10000 (82.27%)\n",
            "\n",
            "EPOCH: 30\n"
          ]
        },
        {
          "output_type": "stream",
          "name": "stderr",
          "text": [
            "Batch_id=781 Loss=0.77239 Accuracy=72.83: 100%|██████████| 782/782 [00:19<00:00, 40.10it/s]\n"
          ]
        },
        {
          "output_type": "stream",
          "name": "stdout",
          "text": [
            "\n",
            "Test set: Average loss: 0.5193, Accuracy: 8241/10000 (82.41%)\n",
            "\n"
          ]
        }
      ]
    },
    {
      "cell_type": "markdown",
      "source": [
        "3rd Model"
      ],
      "metadata": {
        "id": "NRYWQdsv8FpN"
      }
    },
    {
      "cell_type": "code",
      "source": [
        "import torch.nn as nn\n",
        "import torch.nn.functional as F\n",
        "\n",
        "#depthwise separable convolution\n",
        "class DepthwiseSeparable(nn.Module):\n",
        "  def __init__(self, in_ch, out_ch, stride=1):\n",
        "    super(DepthwiseSeparable, self).__init__()\n",
        "    self.in_chan = in_ch\n",
        "    self.out_chan = out_ch\n",
        "\n",
        "    self.depthwise = nn.Sequential(\n",
        "          nn.Conv2d(in_channels=self.in_chan, out_channels=self.in_chan, kernel_size=(3, 3), padding=1, stride=stride, groups=self.in_chan, bias=False),\n",
        "          #pointwise\n",
        "          nn.Conv2d(in_channels=self.in_chan, out_channels=self.out_chan, kernel_size=(1,1)))\n",
        "\n",
        "  def forward(self, x):\n",
        "    x = self.depthwise(x)\n",
        "    return x\n",
        "\n",
        "class Net3(nn.Module):\n",
        "    def __init__(self, drop=0.025):\n",
        "        super(Net3, self).__init__()\n",
        "\n",
        "        self.convblock1 = nn.Sequential(\n",
        "            nn.Conv2d(in_channels=3, out_channels=32, kernel_size=(3, 3), padding=1, bias=False),\n",
        "            nn.BatchNorm2d(32),\n",
        "            nn.ReLU(),\n",
        "            nn.Dropout(drop),\n",
        "            DepthwiseSeparable(32,32,2), \n",
        "            nn.BatchNorm2d(32),\n",
        "            nn.ReLU(),\n",
        "            nn.Dropout(drop),\n",
        "        )\n",
        "\n",
        "        self.convblock2 = nn.Sequential(\n",
        "            nn.Conv2d(in_channels=32, out_channels=64, kernel_size=(3, 3), padding=1, bias=False),\n",
        "            nn.BatchNorm2d(64),\n",
        "            nn.ReLU(),\n",
        "            nn.Dropout(drop),\n",
        "            DepthwiseSeparable(64,64,2), \n",
        "            nn.BatchNorm2d(64),\n",
        "            nn.ReLU(),\n",
        "            nn.Dropout(drop),\n",
        "        )\n",
        "\n",
        "        self.convblock3 =  nn.Sequential(\n",
        "            nn.Conv2d(in_channels=64, out_channels=64, kernel_size=(3, 3), padding=1, dilation=2, bias=False),\n",
        "            nn.Conv2d(in_channels=64, out_channels=64, kernel_size=(3, 3), padding=1, dilation=2, bias=False),\n",
        "            nn.BatchNorm2d(64),\n",
        "            nn.ReLU(),\n",
        "            nn.Dropout(drop),\n",
        "        )\n",
        "\n",
        "        self.convblock4 = nn.Sequential(\n",
        "            nn.Conv2d(in_channels=64, out_channels=32, kernel_size=(3, 3), padding=1, bias=False), \n",
        "            nn.ReLU(),\n",
        "            nn.Conv2d(in_channels=32, out_channels=10, kernel_size=(3, 3), padding=1, bias=False), \n",
        "\n",
        "        ) \n",
        "\n",
        "        self.gap = nn.AvgPool2d(4)\n",
        "\n",
        "    def forward(self, x):\n",
        "        x =  self.convblock1(x)\n",
        "        #print(x.shape)\n",
        "        x =  self.convblock2(x)\n",
        "        #print(x.shape)\n",
        "        x =  self.convblock3(x)\n",
        "        #print(x.shape)\n",
        "        x =  self.convblock4(x)\n",
        "        #print(x.shape)\n",
        "        x =  self.gap(x)\n",
        "        x = x.view(-1, 10)\n",
        "        \n",
        "        return F.log_softmax(x, dim=-1)"
      ],
      "metadata": {
        "id": "3NOIlHgW66ZV"
      },
      "execution_count": null,
      "outputs": []
    },
    {
      "cell_type": "code",
      "source": [
        "import matplotlib.pyplot as plt\n",
        "import numpy as np\n",
        "\n",
        "import albumentations as A\n",
        "from albumentations.pytorch import ToTensorV2\n",
        "\n",
        "import torch\n",
        "import torch.optim as optim\n",
        "from torchsummary import summary\n",
        "from torch.utils.data import Dataset, DataLoader\n",
        "\n",
        "import torchvision\n",
        "from torchvision import datasets, transforms\n",
        "from tqdm import tqdm"
      ],
      "metadata": {
        "id": "v3QH4BTV8KR2"
      },
      "execution_count": null,
      "outputs": []
    },
    {
      "cell_type": "code",
      "source": [
        "use_cuda = torch.cuda.is_available()\n",
        "device = torch.device(\"cuda\" if use_cuda else \"cpu\")\n",
        "print(device)\n",
        "net3 = Net3(drop=0.0).to(device)\n",
        "summary(net3, input_size=(3, 32, 32))"
      ],
      "metadata": {
        "colab": {
          "base_uri": "https://localhost:8080/"
        },
        "id": "4t5EhX1m8MbM",
        "outputId": "aabcdfc3-7e70-457d-e9f9-4f9a7638d3f8"
      },
      "execution_count": null,
      "outputs": [
        {
          "output_type": "stream",
          "name": "stdout",
          "text": [
            "cuda\n",
            "----------------------------------------------------------------\n",
            "        Layer (type)               Output Shape         Param #\n",
            "================================================================\n",
            "            Conv2d-1           [-1, 32, 32, 32]             864\n",
            "       BatchNorm2d-2           [-1, 32, 32, 32]              64\n",
            "              ReLU-3           [-1, 32, 32, 32]               0\n",
            "           Dropout-4           [-1, 32, 32, 32]               0\n",
            "            Conv2d-5           [-1, 32, 16, 16]             288\n",
            "            Conv2d-6           [-1, 32, 16, 16]           1,056\n",
            "DepthwiseSeparable-7           [-1, 32, 16, 16]               0\n",
            "       BatchNorm2d-8           [-1, 32, 16, 16]              64\n",
            "              ReLU-9           [-1, 32, 16, 16]               0\n",
            "          Dropout-10           [-1, 32, 16, 16]               0\n",
            "           Conv2d-11           [-1, 64, 16, 16]          18,432\n",
            "      BatchNorm2d-12           [-1, 64, 16, 16]             128\n",
            "             ReLU-13           [-1, 64, 16, 16]               0\n",
            "          Dropout-14           [-1, 64, 16, 16]               0\n",
            "           Conv2d-15             [-1, 64, 8, 8]             576\n",
            "           Conv2d-16             [-1, 64, 8, 8]           4,160\n",
            "DepthwiseSeparable-17             [-1, 64, 8, 8]               0\n",
            "      BatchNorm2d-18             [-1, 64, 8, 8]             128\n",
            "             ReLU-19             [-1, 64, 8, 8]               0\n",
            "          Dropout-20             [-1, 64, 8, 8]               0\n",
            "           Conv2d-21             [-1, 64, 6, 6]          36,864\n",
            "           Conv2d-22             [-1, 64, 4, 4]          36,864\n",
            "      BatchNorm2d-23             [-1, 64, 4, 4]             128\n",
            "             ReLU-24             [-1, 64, 4, 4]               0\n",
            "          Dropout-25             [-1, 64, 4, 4]               0\n",
            "           Conv2d-26             [-1, 32, 4, 4]          18,432\n",
            "             ReLU-27             [-1, 32, 4, 4]               0\n",
            "           Conv2d-28             [-1, 10, 4, 4]           2,880\n",
            "        AvgPool2d-29             [-1, 10, 1, 1]               0\n",
            "================================================================\n",
            "Total params: 120,928\n",
            "Trainable params: 120,928\n",
            "Non-trainable params: 0\n",
            "----------------------------------------------------------------\n",
            "Input size (MB): 0.01\n",
            "Forward/backward pass size (MB): 2.12\n",
            "Params size (MB): 0.46\n",
            "Estimated Total Size (MB): 2.59\n",
            "----------------------------------------------------------------\n"
          ]
        }
      ]
    },
    {
      "cell_type": "code",
      "source": [
        "!pip install torch_lr_finder\n",
        "from torch_lr_finder import LRFinder\n",
        "\n",
        "\n",
        "def find_lr(net, optimizer, criterion, train_loader):\n",
        "    \"\"\"Find learning rate for using One Cyclic LRFinder\n",
        "    Args:\n",
        "        net (instace): torch instace of defined model\n",
        "        optimizer (instance): optimizer to be used\n",
        "        criterion (instance): criterion to be used for calculating loss\n",
        "        train_loader (instance): torch dataloader instace for trainig set\n",
        "    \"\"\"\n",
        "    lr_finder = LRFinder(net, optimizer, criterion, device=\"cuda\")\n",
        "    lr_finder.range_test(train_loader, end_lr=10, num_iter=100, step_mode=\"exp\")\n",
        "    lr_finder.plot()\n",
        "    lr_finder.reset()"
      ],
      "metadata": {
        "colab": {
          "base_uri": "https://localhost:8080/"
        },
        "id": "95c8Ph298Nnz",
        "outputId": "d1489891-a093-46d8-8f6b-dbc67b932d71"
      },
      "execution_count": null,
      "outputs": [
        {
          "output_type": "stream",
          "name": "stdout",
          "text": [
            "Looking in indexes: https://pypi.org/simple, https://us-python.pkg.dev/colab-wheels/public/simple/\n",
            "Collecting torch_lr_finder\n",
            "  Downloading torch_lr_finder-0.2.1-py3-none-any.whl (11 kB)\n",
            "Requirement already satisfied: torch>=0.4.1 in /usr/local/lib/python3.8/dist-packages (from torch_lr_finder) (1.13.1+cu116)\n",
            "Requirement already satisfied: matplotlib in /usr/local/lib/python3.8/dist-packages (from torch_lr_finder) (3.2.2)\n",
            "Requirement already satisfied: numpy in /usr/local/lib/python3.8/dist-packages (from torch_lr_finder) (1.21.6)\n",
            "Requirement already satisfied: packaging in /usr/local/lib/python3.8/dist-packages (from torch_lr_finder) (23.0)\n",
            "Requirement already satisfied: tqdm in /usr/local/lib/python3.8/dist-packages (from torch_lr_finder) (4.64.1)\n",
            "Requirement already satisfied: typing-extensions in /usr/local/lib/python3.8/dist-packages (from torch>=0.4.1->torch_lr_finder) (4.4.0)\n",
            "Requirement already satisfied: cycler>=0.10 in /usr/local/lib/python3.8/dist-packages (from matplotlib->torch_lr_finder) (0.11.0)\n",
            "Requirement already satisfied: kiwisolver>=1.0.1 in /usr/local/lib/python3.8/dist-packages (from matplotlib->torch_lr_finder) (1.4.4)\n",
            "Requirement already satisfied: python-dateutil>=2.1 in /usr/local/lib/python3.8/dist-packages (from matplotlib->torch_lr_finder) (2.8.2)\n",
            "Requirement already satisfied: pyparsing!=2.0.4,!=2.1.2,!=2.1.6,>=2.0.1 in /usr/local/lib/python3.8/dist-packages (from matplotlib->torch_lr_finder) (3.0.9)\n",
            "Requirement already satisfied: six>=1.5 in /usr/local/lib/python3.8/dist-packages (from python-dateutil>=2.1->matplotlib->torch_lr_finder) (1.15.0)\n",
            "Installing collected packages: torch_lr_finder\n",
            "Successfully installed torch_lr_finder-0.2.1\n"
          ]
        }
      ]
    },
    {
      "cell_type": "code",
      "source": [
        "class AlbumentationImageDataset(Dataset):\n",
        "  def __init__(self, image_list, train= True):\n",
        "      self.image_list = image_list\n",
        "      self.aug = A.Compose({\n",
        "          A.Normalize((0.49139968, 0.48215841, 0.44653091), (0.24703223, 0.24348513, 0.26158784)),\n",
        "          A.HorizontalFlip(),\n",
        "          A.ShiftScaleRotate(),\n",
        "          A.CoarseDropout(1, 16, 16, 1, 16, 16,fill_value=0.473363, mask_fill_value=None),\n",
        "          A.ToGray()\n",
        "      })\n",
        "\n",
        "      self.norm = A.Compose({A.Normalize((0.49139968, 0.48215841, 0.44653091), (0.24703223, 0.24348513, 0.26158784)),\n",
        "      })\n",
        "      self.train = train\n",
        "        \n",
        "  def __len__(self):\n",
        "      return (len(self.image_list))\n",
        "\n",
        "  def __getitem__(self, i):\n",
        "      \n",
        "      image, label = self.image_list[i]\n",
        "      \n",
        "      if self.train:\n",
        "        #apply augmentation only for training\n",
        "        image = self.aug(image=np.array(image))['image']\n",
        "      else:\n",
        "        image = self.norm(image=np.array(image))['image']\n",
        "      image = np.transpose(image, (2, 0, 1)).astype(np.float32)\n",
        "      return torch.tensor(image, dtype=torch.float), label"
      ],
      "metadata": {
        "id": "eiPNp9wK8Qpx"
      },
      "execution_count": null,
      "outputs": []
    },
    {
      "cell_type": "code",
      "source": [
        "cuda = torch.cuda.is_available()\n",
        "print(\"CUDA Available:\", cuda)\n",
        "SEED = 1\n",
        "# For reproducibility\n",
        "torch.manual_seed(SEED)\n",
        "\n",
        "if cuda:\n",
        "    torch.cuda.manual_seed(SEED)\n",
        "    BATCH_SIZE=512\n",
        "else:\n",
        "    BATCH_SIZE=32\n",
        "    \n",
        "print(f'Batch Size: {BATCH_SIZE}')"
      ],
      "metadata": {
        "colab": {
          "base_uri": "https://localhost:8080/"
        },
        "id": "HsqKzMju8SfM",
        "outputId": "095c6a2a-025f-407b-ba80-c260226d2aae"
      },
      "execution_count": null,
      "outputs": [
        {
          "output_type": "stream",
          "name": "stdout",
          "text": [
            "CUDA Available: True\n",
            "Batch Size: 512\n"
          ]
        }
      ]
    },
    {
      "cell_type": "code",
      "source": [
        "trainset = torchvision.datasets.CIFAR10(root='./data', train=True,\n",
        "                                        download=True )\n",
        "testset = torchvision.datasets.CIFAR10(root='./data', train=False,\n",
        "                                       download=True)\n",
        "\n",
        "\n",
        "train_loader = torch.utils.data.DataLoader(AlbumentationImageDataset(trainset, train=True), batch_size=BATCH_SIZE,\n",
        "                                          shuffle=True, num_workers=2)\n",
        "test_loader = torch.utils.data.DataLoader(AlbumentationImageDataset(testset, train=False), batch_size=BATCH_SIZE,\n",
        "                                          shuffle=False, num_workers=1)\n",
        "    "
      ],
      "metadata": {
        "colab": {
          "base_uri": "https://localhost:8080/"
        },
        "id": "ArOqD3ny8ULm",
        "outputId": "7920e19b-b5f1-44aa-b879-b0f3c66de6e5"
      },
      "execution_count": null,
      "outputs": [
        {
          "output_type": "stream",
          "name": "stdout",
          "text": [
            "Files already downloaded and verified\n",
            "Files already downloaded and verified\n"
          ]
        }
      ]
    },
    {
      "cell_type": "code",
      "source": [
        "import numpy as np\n",
        "import torch\n",
        "from tqdm import tqdm\n",
        "\n",
        "\n",
        "def train(model, device, train_loader, criterion, scheduler, optimizer, use_l1=False, lambda_l1=0.01):\n",
        "    \"\"\"Function to train the model\n",
        "\n",
        "    Args:\n",
        "        model (instance): torch model instance of defined model\n",
        "        device (str): \"cpu\" or \"cuda\" device to be used\n",
        "        train_loader (instance): Torch Dataloader instance for trainingset\n",
        "        criterion (instance): criterion to used for calculating the loss\n",
        "        scheduler (function): scheduler to be used\n",
        "        optimizer (function): optimizer to be used\n",
        "        use_l1 (bool, optional): L1 Regularization method set True to use . Defaults to False.\n",
        "        lambda_l1 (float, optional): Regularization parameter of L1. Defaults to 0.01.\n",
        "\n",
        "    Returns:\n",
        "        float: accuracy and loss values\n",
        "    \"\"\"\n",
        "    model.train()\n",
        "    pbar = tqdm(train_loader)\n",
        "    lr_trend = []\n",
        "    correct = 0\n",
        "    processed = 0\n",
        "    train_loss = 0\n",
        "\n",
        "    for batch_idx, (data, target) in enumerate(pbar):\n",
        "        # get samples\n",
        "        data, target = data.to(device), target.to(device)\n",
        "\n",
        "        # Init\n",
        "        optimizer.zero_grad()\n",
        "        # In PyTorch, we need to set the gradients to zero before starting to do backpropragation because PyTorch \n",
        "        # accumulates the gradients on subsequent backward passes. Because of this, when you start your training loop, \n",
        "        # ideally you should zero out the gradients so that you do the parameter update correctly.\n",
        "\n",
        "        # Predict\n",
        "        y_pred = model(data)\n",
        "        # Calculate loss\n",
        "        loss = criterion(y_pred, target)\n",
        "\n",
        "        l1=0\n",
        "        if use_l1:\n",
        "            for p in model.parameters():\n",
        "                l1 = l1 + p.abs().sum()\n",
        "        loss = loss + lambda_l1*l1\n",
        "\n",
        "        # Backpropagation\n",
        "        loss.backward()\n",
        "        optimizer.step()\n",
        "        # updating LR\n",
        "        if scheduler:\n",
        "            if not isinstance(scheduler, torch.optim.lr_scheduler.ReduceLROnPlateau):\n",
        "                scheduler.step()\n",
        "                lr_trend.append(scheduler.get_last_lr()[0])\n",
        "\n",
        "        train_loss += loss.item()\n",
        "\n",
        "        # Update pbar-tqdm\n",
        "        pred = y_pred.argmax(dim=1, keepdim=True)  # get the index of the max log-probability\n",
        "        correct += pred.eq(target.view_as(pred)).sum().item()\n",
        "        processed += len(data)\n",
        "        \n",
        "\n",
        "        pbar.set_description(desc= f'Batch_id={batch_idx} Loss={train_loss/(batch_idx + 1):.5f} Accuracy={100*correct/processed:0.2f}%')\n",
        "    return 100*correct/processed, train_loss/(batch_idx + 1), lr_trend\n",
        "\n",
        "\n",
        "def test(model, device, test_loader, criterion):\n",
        "    \"\"\"put model in eval mode and test it\n",
        "\n",
        "    Args:\n",
        "        model (instance): torch model instance of defined model\n",
        "        device (str): \"cpu\" or \"cuda\" device to be used\n",
        "        test_loader (instance): Torch Dataloader instance for testset\n",
        "        criterion (instance): criterion to used for calculating the loss\n",
        "\n",
        "    Returns:\n",
        "        float: accuracy and loss values\n",
        "    \"\"\"\n",
        "    model.eval()\n",
        "    test_loss = 0\n",
        "    correct = 0\n",
        "    #iteration = len(test_loader.dataset)// test_loader.batch_size\n",
        "    with torch.no_grad():\n",
        "        for data, target in test_loader:\n",
        "            data, target = data.to(device), target.to(device)\n",
        "            output = model(data)\n",
        "            test_loss += criterion(output, target).item()  # sum up batch loss\n",
        "            pred = output.argmax(dim=1, keepdim=True)  # get the index of the max log-probability\n",
        "            correct += pred.eq(target.view_as(pred)).sum().item()\n",
        "\n",
        "    test_loss /= len(test_loader)\n",
        "\n",
        "    print('\\nTest set: Average loss: {:.4f}, Accuracy: {}/{} ({:.2f}%)'.format(\n",
        "        test_loss, correct, len(test_loader.dataset),\n",
        "        100. * correct / len(test_loader.dataset)))\n",
        "    return 100. * correct / len(test_loader.dataset), test_loss\n",
        "\n",
        "\n",
        "def save_model(model, epoch, optimizer, path):\n",
        "    \"\"\"Save torch model in .pt format\n",
        "\n",
        "    Args:\n",
        "        model (instace): torch instance of model to be saved\n",
        "        epoch (int): epoch num\n",
        "        optimizer (instance): torch optimizer\n",
        "        path (str): model saving path\n",
        "    \"\"\"\n",
        "    state = {\n",
        "        'epoch': epoch,\n",
        "        'state_dict': model.state_dict(),\n",
        "        'optimizer': optimizer.state_dict()\n",
        "    }\n",
        "    torch.save(state, path)\n",
        "\n",
        "\n",
        "def fit_model(net, optimizer, criterion, device, NUM_EPOCHS,train_loader, test_loader, use_l1=False, scheduler=None, save_best=False):\n",
        "    \"\"\"Fit the model\n",
        "\n",
        "    Args:\n",
        "        net (instance): torch model instance of defined model\n",
        "        optimizer (function): optimizer to be used\n",
        "        criterion (instance): criterion to used for calculating the loss\n",
        "        device (str): \"cpu\" or \"cuda\" device to be used\n",
        "        NUM_EPOCHS (int): number of epochs for model to be trained\n",
        "        train_loader (instance): Torch Dataloader instance for trainingset\n",
        "        test_loader (instance): Torch Dataloader instance for testset\n",
        "        use_l1 (bool, optional): L1 Regularization method set True to use. Defaults to False.\n",
        "        scheduler (function, optional): scheduler to be used. Defaults to None.\n",
        "        save_best (bool, optional): If save best model to model.pt file, paramater validation loss will be monitered\n",
        "\n",
        "    Returns:\n",
        "        (model, list): trained model and training logs\n",
        "    \"\"\"\n",
        "    training_acc, training_loss, testing_acc, testing_loss = list(), list(), list(), list()\n",
        "    lr_trend = []\n",
        "    if save_best:\n",
        "        min_val_loss = np.inf\n",
        "        save_path = 'model.pt'\n",
        "\n",
        "    for epoch in range(1,NUM_EPOCHS+1):\n",
        "        print(\"EPOCH: {} (LR: {})\".format(epoch, optimizer.param_groups[0]['lr']))\n",
        "        \n",
        "        train_acc, train_loss, lr_hist = train(\n",
        "            model=net, \n",
        "            device=device, \n",
        "            train_loader=train_loader, \n",
        "            criterion=criterion ,\n",
        "            optimizer=optimizer, \n",
        "            use_l1=use_l1, \n",
        "            scheduler=scheduler\n",
        "        )\n",
        "        test_acc, test_loss = test(net, device, test_loader, criterion)\n",
        "        # update LR\n",
        "        if scheduler:\n",
        "            if isinstance(scheduler, torch.optim.lr_scheduler.ReduceLROnPlateau):\n",
        "                scheduler.step(test_loss)\n",
        "        \n",
        "        if save_best:\n",
        "            if test_loss < min_val_loss:\n",
        "                print(f'Valid loss reduced from {min_val_loss:.5f} to {test_loss:.6f}. checkpoint created at...{save_path}\\n')\n",
        "                save_model(net, epoch, optimizer, save_path)\n",
        "                min_val_loss = test_loss\n",
        "            else:\n",
        "                print(f'Valid loss did not inprove from {min_val_loss:.5f}\\n')\n",
        "        else:\n",
        "            print()\n",
        "\n",
        "        training_acc.append(train_acc)\n",
        "        training_loss.append(train_loss)\n",
        "        testing_acc.append(test_acc)\n",
        "        testing_loss.append(test_loss)\n",
        "        lr_trend.extend(lr_hist)    \n",
        "\n",
        "    if scheduler:   \n",
        "        return net, (training_acc, training_loss, testing_acc, testing_loss, lr_trend)\n",
        "    else:\n",
        "        return net, (training_acc, training_loss, testing_acc, testing_loss)\n",
        "\n"
      ],
      "metadata": {
        "id": "H6_HSL5j8V5w"
      },
      "execution_count": null,
      "outputs": []
    },
    {
      "cell_type": "code",
      "source": [
        "optimizer = torch.optim.SGD(net3.parameters(), lr=0.01, momentum=0.9)\n",
        "criterion = nn.CrossEntropyLoss()\n",
        "lr_finder = LRFinder(net3, optimizer, criterion, device=device)\n",
        "lr_finder.range_test(train_loader, end_lr=10, num_iter=200)\n",
        "lr_finder.plot() "
      ],
      "metadata": {
        "colab": {
          "base_uri": "https://localhost:8080/",
          "height": 406,
          "referenced_widgets": [
            "c53a23e8c92f46e6af267512910155a2",
            "8b79da7b68fd460eb95afdd5cbe7a534",
            "9f5232960c80480884be2dbdeffebe4a",
            "725626b6dfe04fd09a2195a871f37124",
            "97a64b30419e4bceb2dcfdcb8ca6074f",
            "55474136915b48df92f911b377c854dc",
            "eb357853888c47bc9c59eeae5ecb15ee",
            "8d3a1415ee3c48fdb754279061baa564",
            "754ec79017c144a8a97a803abdad04b1",
            "6b43a42c2c0d4f8db8a048a513e6427e",
            "d5633876d12e418ba0917a19b8975a7f"
          ]
        },
        "id": "GL7k1JVq9y6T",
        "outputId": "bb17c6a4-5437-4fb2-99ac-55edcaa9bc69"
      },
      "execution_count": null,
      "outputs": [
        {
          "output_type": "display_data",
          "data": {
            "text/plain": [
              "  0%|          | 0/200 [00:00<?, ?it/s]"
            ],
            "application/vnd.jupyter.widget-view+json": {
              "version_major": 2,
              "version_minor": 0,
              "model_id": "c53a23e8c92f46e6af267512910155a2"
            }
          },
          "metadata": {}
        },
        {
          "output_type": "stream",
          "name": "stdout",
          "text": [
            "Learning rate search finished. See the graph with {finder_name}.plot()\n",
            "LR suggestion: steepest gradient\n",
            "Suggested LR: 3.74E-02\n"
          ]
        },
        {
          "output_type": "display_data",
          "data": {
            "text/plain": [
              "<Figure size 432x288 with 1 Axes>"
            ],
            "image/png": "[encoded data removed]"
          },
          "metadata": {
            "needs_background": "light"
          }
        },
        {
          "output_type": "execute_result",
          "data": {
            "text/plain": [
              "(<matplotlib.axes._subplots.AxesSubplot at 0x7f0444bc5f40>,\n",
              " 0.03739937302478798)"
            ]
          },
          "metadata": {},
          "execution_count": 28
        }
      ]
    },
    {
      "cell_type": "code",
      "source": [
        "min_loss = min(lr_finder.history['loss'])\n",
        "ler_rate = lr_finder.history['lr'][np.argmin(lr_finder.history['loss'], axis=0)]\n",
        "print(\"Max LR is {}\".format(ler_rate))"
      ],
      "metadata": {
        "colab": {
          "base_uri": "https://localhost:8080/"
        },
        "id": "hw0ZehMJ98tJ",
        "outputId": "729a8e2a-5e2c-499a-9875-ab8d5dc66314"
      },
      "execution_count": null,
      "outputs": [
        {
          "output_type": "stream",
          "name": "stdout",
          "text": [
            "Max LR is 1.762914118095948\n"
          ]
        }
      ]
    },
    {
      "cell_type": "code",
      "source": [
        "net3 = Net3(drop=0.0).to(device)\n",
        "optimizer = torch.optim.SGD(net3.parameters(), lr=0.01, momentum=0.9)\n",
        "scheduler = torch.optim.lr_scheduler.OneCycleLR(optimizer, \n",
        "                                                max_lr=ler_rate,\n",
        "                                                steps_per_epoch=len(train_loader), \n",
        "                                                epochs=24,\n",
        "                                                pct_start=0.2,\n",
        "                                                div_factor=10,\n",
        "                                                three_phase=False, \n",
        "                                                final_div_factor=50,\n",
        "                                                anneal_strategy='linear'\n",
        "                                                ) #final_div_factor=100,\n",
        "net, history = fit_model(\n",
        "    net=net3, device=device,\n",
        "    criterion = nn.CrossEntropyLoss(),\n",
        "    train_loader=train_loader, test_loader=test_loader,\n",
        "    optimizer=optimizer, \n",
        "    scheduler=scheduler, \n",
        "    NUM_EPOCHS=24\n",
        ")"
      ],
      "metadata": {
        "colab": {
          "base_uri": "https://localhost:8080/"
        },
        "id": "cY8RNUdo8bSN",
        "outputId": "d57e0eea-f775-4881-c2bf-7cfbc93b2798"
      },
      "execution_count": null,
      "outputs": [
        {
          "output_type": "stream",
          "name": "stdout",
          "text": [
            "EPOCH: 1 (LR: 0.1762914118095948)\n"
          ]
        },
        {
          "output_type": "stream",
          "name": "stderr",
          "text": [
            "Batch_id=97 Loss=1.96173 Accuracy=26.97%: 100%|██████████| 98/98 [00:17<00:00,  5.69it/s]\n"
          ]
        },
        {
          "output_type": "stream",
          "name": "stdout",
          "text": [
            "\n",
            "Test set: Average loss: 1.9030, Accuracy: 3705/10000 (37.05%)\n",
            "\n",
            "EPOCH: 2 (LR: 0.5075419981241721)\n"
          ]
        },
        {
          "output_type": "stream",
          "name": "stderr",
          "text": [
            "Batch_id=97 Loss=1.69032 Accuracy=38.08%: 100%|██████████| 98/98 [00:18<00:00,  5.42it/s]\n"
          ]
        },
        {
          "output_type": "stream",
          "name": "stdout",
          "text": [
            "\n",
            "Test set: Average loss: 1.5221, Accuracy: 4505/10000 (45.05%)\n",
            "\n",
            "EPOCH: 3 (LR: 0.8387925844387494)\n"
          ]
        },
        {
          "output_type": "stream",
          "name": "stderr",
          "text": [
            "Batch_id=97 Loss=1.57549 Accuracy=43.01%: 100%|██████████| 98/98 [00:13<00:00,  7.41it/s]\n"
          ]
        },
        {
          "output_type": "stream",
          "name": "stdout",
          "text": [
            "\n",
            "Test set: Average loss: 1.4314, Accuracy: 4821/10000 (48.21%)\n",
            "\n",
            "EPOCH: 4 (LR: 1.1700431707533268)\n"
          ]
        },
        {
          "output_type": "stream",
          "name": "stderr",
          "text": [
            "Batch_id=97 Loss=1.49775 Accuracy=46.26%: 100%|██████████| 98/98 [00:12<00:00,  7.67it/s]\n"
          ]
        },
        {
          "output_type": "stream",
          "name": "stdout",
          "text": [
            "\n",
            "Test set: Average loss: 1.4266, Accuracy: 4938/10000 (49.38%)\n",
            "\n",
            "EPOCH: 5 (LR: 1.5012937570679041)\n"
          ]
        },
        {
          "output_type": "stream",
          "name": "stderr",
          "text": [
            "Batch_id=97 Loss=1.42596 Accuracy=49.20%: 100%|██████████| 98/98 [00:13<00:00,  7.14it/s]\n"
          ]
        },
        {
          "output_type": "stream",
          "name": "stdout",
          "text": [
            "\n",
            "Test set: Average loss: 1.2898, Accuracy: 5478/10000 (54.78%)\n",
            "\n",
            "EPOCH: 6 (LR: 1.7436521076946347)\n"
          ]
        },
        {
          "output_type": "stream",
          "name": "stderr",
          "text": [
            "Batch_id=97 Loss=1.35053 Accuracy=52.10%: 100%|██████████| 98/98 [00:13<00:00,  7.40it/s]\n"
          ]
        },
        {
          "output_type": "stream",
          "name": "stdout",
          "text": [
            "\n",
            "Test set: Average loss: 1.1218, Accuracy: 6076/10000 (60.76%)\n",
            "\n",
            "EPOCH: 7 (LR: 1.6520173009311059)\n"
          ]
        },
        {
          "output_type": "stream",
          "name": "stderr",
          "text": [
            "Batch_id=97 Loss=1.30390 Accuracy=53.81%: 100%|██████████| 98/98 [00:13<00:00,  7.18it/s]\n"
          ]
        },
        {
          "output_type": "stream",
          "name": "stdout",
          "text": [
            "\n",
            "Test set: Average loss: 1.1046, Accuracy: 6056/10000 (60.56%)\n",
            "\n",
            "EPOCH: 8 (LR: 1.5603824941675768)\n"
          ]
        },
        {
          "output_type": "stream",
          "name": "stderr",
          "text": [
            "Batch_id=97 Loss=1.25684 Accuracy=55.33%: 100%|██████████| 98/98 [00:14<00:00,  6.79it/s]\n"
          ]
        },
        {
          "output_type": "stream",
          "name": "stdout",
          "text": [
            "\n",
            "Test set: Average loss: 1.3765, Accuracy: 5601/10000 (56.01%)\n",
            "\n",
            "EPOCH: 9 (LR: 1.468747687404048)\n"
          ]
        },
        {
          "output_type": "stream",
          "name": "stderr",
          "text": [
            "Batch_id=97 Loss=1.22066 Accuracy=57.05%: 100%|██████████| 98/98 [00:14<00:00,  6.76it/s]\n"
          ]
        },
        {
          "output_type": "stream",
          "name": "stdout",
          "text": [
            "\n",
            "Test set: Average loss: 0.9680, Accuracy: 6600/10000 (66.00%)\n",
            "\n",
            "EPOCH: 10 (LR: 1.3771128806405188)\n"
          ]
        },
        {
          "output_type": "stream",
          "name": "stderr",
          "text": [
            "Batch_id=97 Loss=1.18599 Accuracy=58.20%: 100%|██████████| 98/98 [00:13<00:00,  7.18it/s]\n"
          ]
        },
        {
          "output_type": "stream",
          "name": "stdout",
          "text": [
            "\n",
            "Test set: Average loss: 1.0120, Accuracy: 6571/10000 (65.71%)\n",
            "\n",
            "EPOCH: 11 (LR: 1.28547807387699)\n"
          ]
        },
        {
          "output_type": "stream",
          "name": "stderr",
          "text": [
            "Batch_id=97 Loss=1.15935 Accuracy=59.22%: 100%|██████████| 98/98 [00:13<00:00,  7.22it/s]\n"
          ]
        },
        {
          "output_type": "stream",
          "name": "stdout",
          "text": [
            "\n",
            "Test set: Average loss: 0.9477, Accuracy: 6845/10000 (68.45%)\n",
            "\n",
            "EPOCH: 12 (LR: 1.193843267113461)\n"
          ]
        },
        {
          "output_type": "stream",
          "name": "stderr",
          "text": [
            "Batch_id=97 Loss=1.12479 Accuracy=60.41%: 100%|██████████| 98/98 [00:13<00:00,  7.53it/s]\n"
          ]
        },
        {
          "output_type": "stream",
          "name": "stdout",
          "text": [
            "\n",
            "Test set: Average loss: 0.9108, Accuracy: 6899/10000 (68.99%)\n",
            "\n",
            "EPOCH: 13 (LR: 1.102208460349932)\n"
          ]
        },
        {
          "output_type": "stream",
          "name": "stderr",
          "text": [
            "Batch_id=97 Loss=1.10545 Accuracy=61.25%: 100%|██████████| 98/98 [00:12<00:00,  7.58it/s]\n"
          ]
        },
        {
          "output_type": "stream",
          "name": "stdout",
          "text": [
            "\n",
            "Test set: Average loss: 0.8407, Accuracy: 7173/10000 (71.73%)\n",
            "\n",
            "EPOCH: 14 (LR: 1.0105736535864032)\n"
          ]
        },
        {
          "output_type": "stream",
          "name": "stderr",
          "text": [
            "Batch_id=97 Loss=1.10106 Accuracy=61.33%: 100%|██████████| 98/98 [00:13<00:00,  7.51it/s]\n"
          ]
        },
        {
          "output_type": "stream",
          "name": "stdout",
          "text": [
            "\n",
            "Test set: Average loss: 0.8732, Accuracy: 6915/10000 (69.15%)\n",
            "\n",
            "EPOCH: 15 (LR: 0.9189388468228742)\n"
          ]
        },
        {
          "output_type": "stream",
          "name": "stderr",
          "text": [
            "Batch_id=97 Loss=1.06556 Accuracy=62.46%: 100%|██████████| 98/98 [00:12<00:00,  7.58it/s]\n"
          ]
        },
        {
          "output_type": "stream",
          "name": "stdout",
          "text": [
            "\n",
            "Test set: Average loss: 0.9136, Accuracy: 6984/10000 (69.84%)\n",
            "\n",
            "EPOCH: 16 (LR: 0.8273040400593451)\n"
          ]
        },
        {
          "output_type": "stream",
          "name": "stderr",
          "text": [
            "Batch_id=97 Loss=1.04208 Accuracy=63.45%: 100%|██████████| 98/98 [00:12<00:00,  7.71it/s]\n"
          ]
        },
        {
          "output_type": "stream",
          "name": "stdout",
          "text": [
            "\n",
            "Test set: Average loss: 0.8077, Accuracy: 7216/10000 (72.16%)\n",
            "\n",
            "EPOCH: 17 (LR: 0.7356692332958161)\n"
          ]
        },
        {
          "output_type": "stream",
          "name": "stderr",
          "text": [
            "Batch_id=97 Loss=1.03028 Accuracy=63.78%: 100%|██████████| 98/98 [00:12<00:00,  7.54it/s]\n"
          ]
        },
        {
          "output_type": "stream",
          "name": "stdout",
          "text": [
            "\n",
            "Test set: Average loss: 0.7420, Accuracy: 7434/10000 (74.34%)\n",
            "\n",
            "EPOCH: 18 (LR: 0.6440344265322873)\n"
          ]
        },
        {
          "output_type": "stream",
          "name": "stderr",
          "text": [
            "Batch_id=97 Loss=1.00038 Accuracy=64.89%: 100%|██████████| 98/98 [00:13<00:00,  7.49it/s]\n"
          ]
        },
        {
          "output_type": "stream",
          "name": "stdout",
          "text": [
            "\n",
            "Test set: Average loss: 0.7668, Accuracy: 7351/10000 (73.51%)\n",
            "\n",
            "EPOCH: 19 (LR: 0.5523996197687582)\n"
          ]
        },
        {
          "output_type": "stream",
          "name": "stderr",
          "text": [
            "Batch_id=97 Loss=0.99059 Accuracy=65.19%: 100%|██████████| 98/98 [00:12<00:00,  7.57it/s]\n"
          ]
        },
        {
          "output_type": "stream",
          "name": "stdout",
          "text": [
            "\n",
            "Test set: Average loss: 0.7054, Accuracy: 7573/10000 (75.73%)\n",
            "\n",
            "EPOCH: 20 (LR: 0.4607648130052291)\n"
          ]
        },
        {
          "output_type": "stream",
          "name": "stderr",
          "text": [
            "Batch_id=97 Loss=0.96789 Accuracy=65.99%: 100%|██████████| 98/98 [00:13<00:00,  7.49it/s]\n"
          ]
        },
        {
          "output_type": "stream",
          "name": "stdout",
          "text": [
            "\n",
            "Test set: Average loss: 0.6787, Accuracy: 7617/10000 (76.17%)\n",
            "\n",
            "EPOCH: 21 (LR: 0.36913000624170045)\n"
          ]
        },
        {
          "output_type": "stream",
          "name": "stderr",
          "text": [
            "Batch_id=97 Loss=0.94196 Accuracy=66.68%: 100%|██████████| 98/98 [00:13<00:00,  7.45it/s]\n"
          ]
        },
        {
          "output_type": "stream",
          "name": "stdout",
          "text": [
            "\n",
            "Test set: Average loss: 0.6988, Accuracy: 7590/10000 (75.90%)\n",
            "\n",
            "EPOCH: 22 (LR: 0.27749519947817136)\n"
          ]
        },
        {
          "output_type": "stream",
          "name": "stderr",
          "text": [
            "Batch_id=97 Loss=0.92681 Accuracy=67.16%: 100%|██████████| 98/98 [00:13<00:00,  7.48it/s]\n"
          ]
        },
        {
          "output_type": "stream",
          "name": "stdout",
          "text": [
            "\n",
            "Test set: Average loss: 0.6653, Accuracy: 7741/10000 (77.41%)\n",
            "\n",
            "EPOCH: 23 (LR: 0.18586039271464228)\n"
          ]
        },
        {
          "output_type": "stream",
          "name": "stderr",
          "text": [
            "Batch_id=97 Loss=0.90134 Accuracy=68.42%: 100%|██████████| 98/98 [00:12<00:00,  7.65it/s]\n"
          ]
        },
        {
          "output_type": "stream",
          "name": "stdout",
          "text": [
            "\n",
            "Test set: Average loss: 0.6419, Accuracy: 7751/10000 (77.51%)\n",
            "\n",
            "EPOCH: 24 (LR: 0.09422558595111341)\n"
          ]
        },
        {
          "output_type": "stream",
          "name": "stderr",
          "text": [
            "Batch_id=97 Loss=0.87644 Accuracy=69.06%: 100%|██████████| 98/98 [00:13<00:00,  7.49it/s]\n"
          ]
        },
        {
          "output_type": "stream",
          "name": "stdout",
          "text": [
            "\n",
            "Test set: Average loss: 0.6267, Accuracy: 7830/10000 (78.30%)\n",
            "\n"
          ]
        }
      ]
    },
    {
      "cell_type": "code",
      "source": [
        "# LAST MODEL\n",
        "import torch.nn as nn\n",
        "import torch.nn.functional as F\n",
        "\n",
        "#depthwise separable convolution\n",
        "class DepthwiseSeparable(nn.Module):\n",
        "  def __init__(self, in_ch, out_ch, stride=1):\n",
        "    super(DepthwiseSeparable, self).__init__()\n",
        "    self.in_chan = in_ch\n",
        "    self.out_chan = out_ch\n",
        "\n",
        "    self.depthwise = nn.Sequential(\n",
        "          nn.Conv2d(in_channels=self.in_chan, out_channels=self.in_chan, kernel_size=(3, 3), padding=1, stride=stride, groups=self.in_chan, bias=False),\n",
        "          #pointwise\n",
        "          nn.Conv2d(in_channels=self.in_chan, out_channels=self.out_chan, kernel_size=(1,1)))\n",
        "\n",
        "  def forward(self, x):\n",
        "    x = self.depthwise(x)\n",
        "    return x\n",
        "\n",
        "class Net4(nn.Module):\n",
        "    def __init__(self, drop=0.025):\n",
        "        super(Net4, self).__init__()\n",
        "\n",
        "        self.convblock1 = nn.Sequential(\n",
        "            nn.Conv2d(in_channels=3, out_channels=32, kernel_size=(3, 3), padding=1, bias=False),\n",
        "            nn.BatchNorm2d(32),\n",
        "            nn.ReLU(),\n",
        "            nn.Dropout(drop),\n",
        "            DepthwiseSeparable(32,32,2), \n",
        "            nn.BatchNorm2d(32),\n",
        "            nn.ReLU(),\n",
        "            nn.Dropout(drop),\n",
        "        )\n",
        "\n",
        "        self.convblock2 = nn.Sequential(\n",
        "            nn.Conv2d(in_channels=32, out_channels=64, kernel_size=(3, 3), padding=1, dilation=2, bias=False),\n",
        "            nn.BatchNorm2d(64),\n",
        "            nn.ReLU(),\n",
        "            nn.Dropout(drop),\n",
        "            DepthwiseSeparable(64,64,2), \n",
        "            nn.BatchNorm2d(64),\n",
        "            nn.ReLU(),\n",
        "            nn.Dropout(drop),\n",
        "        )\n",
        "\n",
        "        self.convblock3 =  nn.Sequential(\n",
        "            nn.Conv2d(in_channels=64, out_channels=32, kernel_size=(3, 3), padding=1, dilation=2, bias=False),\n",
        "            nn.BatchNorm2d(32),\n",
        "            nn.ReLU(),\n",
        "            nn.Dropout(drop),\n",
        "        )\n",
        "\n",
        "        self.convblock4 = nn.Sequential(\n",
        "            nn.Conv2d(in_channels=32, out_channels=10, kernel_size=(3, 3), padding=1, bias=False), \n",
        "\n",
        "        ) \n",
        "\n",
        "        self.gap = nn.AvgPool2d(4)\n",
        "\n",
        "    def forward(self, x):\n",
        "        x =  self.convblock1(x)\n",
        "        #print(x.shape)\n",
        "        x =  self.convblock2(x)\n",
        "        #print(x.shape)\n",
        "        x =  self.convblock3(x)\n",
        "        #print(x.shape)\n",
        "        x =  self.convblock4(x)\n",
        "        #print(x.shape)\n",
        "        x =  self.gap(x)\n",
        "        #print(x.shape)\n",
        "        x = x.view(-1, 10)\n",
        "        #print(x.shape)\n",
        "        \n",
        "        return F.log_softmax(x, dim=-1)"
      ],
      "metadata": {
        "id": "RZondgQV8qa5"
      },
      "execution_count": null,
      "outputs": []
    },
    {
      "cell_type": "code",
      "source": [
        "\n",
        "use_cuda = torch.cuda.is_available()\n",
        "device = torch.device(\"cuda\" if use_cuda else \"cpu\")\n",
        "print(device)\n",
        "net4 = Net4(drop=0.0).to(device)\n",
        "summary(net4, input_size=(3, 32, 32))"
      ],
      "metadata": {
        "colab": {
          "base_uri": "https://localhost:8080/"
        },
        "id": "G_h553N18sMO",
        "outputId": "229bf9f6-716e-4fbb-84d7-66e02729b96c"
      },
      "execution_count": null,
      "outputs": [
        {
          "output_type": "stream",
          "name": "stdout",
          "text": [
            "cuda\n",
            "----------------------------------------------------------------\n",
            "        Layer (type)               Output Shape         Param #\n",
            "================================================================\n",
            "            Conv2d-1           [-1, 32, 32, 32]             864\n",
            "       BatchNorm2d-2           [-1, 32, 32, 32]              64\n",
            "              ReLU-3           [-1, 32, 32, 32]               0\n",
            "           Dropout-4           [-1, 32, 32, 32]               0\n",
            "            Conv2d-5           [-1, 32, 16, 16]             288\n",
            "            Conv2d-6           [-1, 32, 16, 16]           1,056\n",
            "DepthwiseSeparable-7           [-1, 32, 16, 16]               0\n",
            "       BatchNorm2d-8           [-1, 32, 16, 16]              64\n",
            "              ReLU-9           [-1, 32, 16, 16]               0\n",
            "          Dropout-10           [-1, 32, 16, 16]               0\n",
            "           Conv2d-11           [-1, 64, 14, 14]          18,432\n",
            "      BatchNorm2d-12           [-1, 64, 14, 14]             128\n",
            "             ReLU-13           [-1, 64, 14, 14]               0\n",
            "          Dropout-14           [-1, 64, 14, 14]               0\n",
            "           Conv2d-15             [-1, 64, 7, 7]             576\n",
            "           Conv2d-16             [-1, 64, 7, 7]           4,160\n",
            "DepthwiseSeparable-17             [-1, 64, 7, 7]               0\n",
            "      BatchNorm2d-18             [-1, 64, 7, 7]             128\n",
            "             ReLU-19             [-1, 64, 7, 7]               0\n",
            "          Dropout-20             [-1, 64, 7, 7]               0\n",
            "           Conv2d-21             [-1, 32, 5, 5]          18,432\n",
            "      BatchNorm2d-22             [-1, 32, 5, 5]              64\n",
            "             ReLU-23             [-1, 32, 5, 5]               0\n",
            "          Dropout-24             [-1, 32, 5, 5]               0\n",
            "           Conv2d-25             [-1, 10, 5, 5]           2,880\n",
            "        AvgPool2d-26             [-1, 10, 1, 1]               0\n",
            "================================================================\n",
            "Total params: 47,136\n",
            "Trainable params: 47,136\n",
            "Non-trainable params: 0\n",
            "----------------------------------------------------------------\n",
            "Input size (MB): 0.01\n",
            "Forward/backward pass size (MB): 1.93\n",
            "Params size (MB): 0.18\n",
            "Estimated Total Size (MB): 2.12\n",
            "----------------------------------------------------------------\n"
          ]
        }
      ]
    },
    {
      "cell_type": "code",
      "source": [
        "net4 = Net4(drop=0.0).to(device)\n",
        "import copy\n",
        "net4_exp = copy.deepcopy(net4)\n",
        "optimizer = torch.optim.SGD(net4_exp.parameters(), lr=0.01, momentum=0.9)\n",
        "criterion = nn.CrossEntropyLoss()\n",
        "lr_finder = LRFinder(net4_exp, optimizer, criterion, device=device)\n",
        "lr_finder.range_test(train_loader, end_lr=10, num_iter=200)\n",
        "lr_finder.plot() "
      ],
      "metadata": {
        "colab": {
          "base_uri": "https://localhost:8080/",
          "height": 388,
          "referenced_widgets": [
            "b3619f0de7334c809ed452835bb7cce0",
            "1ec9b5a46bd8451e8dbd119c21095bad",
            "5fad658705c841df98a50b7f547071a9",
            "8149293f52a54f5e846ea65e3c5e5d8c",
            "e1f809379cbd480098016e454d38d682",
            "87f05840dc174d1b8ef5e7ae07050b3d",
            "4b4bc0757c5b4608a9de8962c8956701",
            "a15416ff09664e0ca1e7985cf3073dc4",
            "3cb3a44fd1654242923973b8ea06d692",
            "5ed2a9da599b407a9fa2f9640f3d16d3",
            "c6a19aa0a8654b92a70d943baed75836"
          ]
        },
        "id": "iHXXWq2c8tyv",
        "outputId": "fb9266f9-ad09-48a0-bfc2-fa0be79e0fe3"
      },
      "execution_count": null,
      "outputs": [
        {
          "output_type": "display_data",
          "data": {
            "text/plain": [
              "  0%|          | 0/200 [00:00<?, ?it/s]"
            ],
            "application/vnd.jupyter.widget-view+json": {
              "version_major": 2,
              "version_minor": 0,
              "model_id": "b3619f0de7334c809ed452835bb7cce0"
            }
          },
          "metadata": {}
        },
        {
          "output_type": "stream",
          "name": "stdout",
          "text": [
            "Learning rate search finished. See the graph with {finder_name}.plot()\n",
            "LR suggestion: steepest gradient\n",
            "Suggested LR: 4.77E-02\n"
          ]
        },
        {
          "output_type": "display_data",
          "data": {
            "text/plain": [
              "<Figure size 432x288 with 1 Axes>"
            ],
            "image/png": "[encoded data removed]"
          },
          "metadata": {
            "needs_background": "light"
          }
        },
        {
          "output_type": "execute_result",
          "data": {
            "text/plain": [
              "(<matplotlib.axes._subplots.AxesSubplot at 0x7f0444c36b20>, 0.0476861169771447)"
            ]
          },
          "metadata": {},
          "execution_count": 39
        }
      ]
    },
    {
      "cell_type": "code",
      "source": [
        "min_loss = min(lr_finder.history['loss'])\n",
        "ler_rate = lr_finder.history['lr'][np.argmin(lr_finder.history['loss'], axis=0)]\n",
        "print(\"Max LR is {}\".format(ler_rate))"
      ],
      "metadata": {
        "colab": {
          "base_uri": "https://localhost:8080/"
        },
        "id": "GULVdAeA8u9C",
        "outputId": "3e768224-75e2-4e67-f140-748c403691d0"
      },
      "execution_count": null,
      "outputs": [
        {
          "output_type": "stream",
          "name": "stdout",
          "text": [
            "Max LR is 0.6905513520162327\n"
          ]
        }
      ]
    },
    {
      "cell_type": "code",
      "source": [
        "optimizer = torch.optim.SGD(net4.parameters(), lr=0.01, momentum=0.9)\n",
        "scheduler = torch.optim.lr_scheduler.OneCycleLR(optimizer, \n",
        "                                                max_lr=ler_rate,\n",
        "                                                steps_per_epoch=len(train_loader), \n",
        "                                                epochs=24,\n",
        "                                                pct_start=0.2,\n",
        "                                                div_factor=10,\n",
        "                                                three_phase=False, \n",
        "                                                final_div_factor=50,\n",
        "                                                anneal_strategy='linear'\n",
        "                                                ) #final_div_factor=100,\n",
        "net, history = fit_model(\n",
        "    net=net4, device=device,\n",
        "    criterion = nn.CrossEntropyLoss(),\n",
        "    train_loader=train_loader, test_loader=test_loader,\n",
        "    optimizer=optimizer, \n",
        "    scheduler=scheduler, \n",
        "    NUM_EPOCHS=24\n",
        ")"
      ],
      "metadata": {
        "colab": {
          "base_uri": "https://localhost:8080/"
        },
        "id": "odAHZ0jY8xZ-",
        "outputId": "bb7a7278-8217-4ab7-eb78-a9cc296c9e02"
      },
      "execution_count": null,
      "outputs": [
        {
          "output_type": "stream",
          "name": "stdout",
          "text": [
            "EPOCH: 1 (LR: 0.06905513520162328)\n"
          ]
        },
        {
          "output_type": "stream",
          "name": "stderr",
          "text": [
            "Batch_id=97 Loss=1.86998 Accuracy=30.80%: 100%|██████████| 98/98 [00:12<00:00,  7.96it/s]\n"
          ]
        },
        {
          "output_type": "stream",
          "name": "stdout",
          "text": [
            "\n",
            "Test set: Average loss: 1.5852, Accuracy: 4289/10000 (42.89%)\n",
            "\n",
            "EPOCH: 2 (LR: 0.19880935175005043)\n"
          ]
        },
        {
          "output_type": "stream",
          "name": "stderr",
          "text": [
            "Batch_id=97 Loss=1.59457 Accuracy=42.15%: 100%|██████████| 98/98 [00:14<00:00,  6.70it/s]\n"
          ]
        },
        {
          "output_type": "stream",
          "name": "stdout",
          "text": [
            "\n",
            "Test set: Average loss: 1.3598, Accuracy: 5197/10000 (51.97%)\n",
            "\n",
            "EPOCH: 3 (LR: 0.3285635682984776)\n"
          ]
        },
        {
          "output_type": "stream",
          "name": "stderr",
          "text": [
            "Batch_id=97 Loss=1.49320 Accuracy=45.81%: 100%|██████████| 98/98 [00:12<00:00,  7.72it/s]\n"
          ]
        },
        {
          "output_type": "stream",
          "name": "stdout",
          "text": [
            "\n",
            "Test set: Average loss: 1.4220, Accuracy: 5153/10000 (51.53%)\n",
            "\n",
            "EPOCH: 4 (LR: 0.4583177848469048)\n"
          ]
        },
        {
          "output_type": "stream",
          "name": "stderr",
          "text": [
            "Batch_id=97 Loss=1.41005 Accuracy=49.46%: 100%|██████████| 98/98 [00:12<00:00,  7.77it/s]\n"
          ]
        },
        {
          "output_type": "stream",
          "name": "stdout",
          "text": [
            "\n",
            "Test set: Average loss: 1.1906, Accuracy: 5955/10000 (59.55%)\n",
            "\n",
            "EPOCH: 5 (LR: 0.588072001395332)\n"
          ]
        },
        {
          "output_type": "stream",
          "name": "stderr",
          "text": [
            "Batch_id=97 Loss=1.33451 Accuracy=52.37%: 100%|██████████| 98/98 [00:13<00:00,  7.49it/s]\n"
          ]
        },
        {
          "output_type": "stream",
          "name": "stdout",
          "text": [
            "\n",
            "Test set: Average loss: 1.0752, Accuracy: 6243/10000 (62.43%)\n",
            "\n",
            "EPOCH: 6 (LR: 0.683006227050336)\n"
          ]
        },
        {
          "output_type": "stream",
          "name": "stderr",
          "text": [
            "Batch_id=97 Loss=1.27919 Accuracy=54.53%: 100%|██████████| 98/98 [00:12<00:00,  7.63it/s]\n"
          ]
        },
        {
          "output_type": "stream",
          "name": "stdout",
          "text": [
            "\n",
            "Test set: Average loss: 1.0693, Accuracy: 6330/10000 (63.30%)\n",
            "\n",
            "EPOCH: 7 (LR: 0.6471119432319923)\n"
          ]
        },
        {
          "output_type": "stream",
          "name": "stderr",
          "text": [
            "Batch_id=97 Loss=1.22826 Accuracy=56.66%: 100%|██████████| 98/98 [00:12<00:00,  7.59it/s]\n"
          ]
        },
        {
          "output_type": "stream",
          "name": "stdout",
          "text": [
            "\n",
            "Test set: Average loss: 0.9447, Accuracy: 6774/10000 (67.74%)\n",
            "\n",
            "EPOCH: 8 (LR: 0.6112176594136485)\n"
          ]
        },
        {
          "output_type": "stream",
          "name": "stderr",
          "text": [
            "Batch_id=97 Loss=1.18961 Accuracy=57.88%: 100%|██████████| 98/98 [00:12<00:00,  7.54it/s]\n"
          ]
        },
        {
          "output_type": "stream",
          "name": "stdout",
          "text": [
            "\n",
            "Test set: Average loss: 0.8604, Accuracy: 6984/10000 (69.84%)\n",
            "\n",
            "EPOCH: 9 (LR: 0.5753233755953047)\n"
          ]
        },
        {
          "output_type": "stream",
          "name": "stderr",
          "text": [
            "Batch_id=97 Loss=1.15925 Accuracy=59.10%: 100%|██████████| 98/98 [00:12<00:00,  7.59it/s]\n"
          ]
        },
        {
          "output_type": "stream",
          "name": "stdout",
          "text": [
            "\n",
            "Test set: Average loss: 0.9874, Accuracy: 6677/10000 (66.77%)\n",
            "\n",
            "EPOCH: 10 (LR: 0.539429091776961)\n"
          ]
        },
        {
          "output_type": "stream",
          "name": "stderr",
          "text": [
            "Batch_id=97 Loss=1.13266 Accuracy=60.05%: 100%|██████████| 98/98 [00:12<00:00,  7.91it/s]\n"
          ]
        },
        {
          "output_type": "stream",
          "name": "stdout",
          "text": [
            "\n",
            "Test set: Average loss: 0.8182, Accuracy: 7167/10000 (71.67%)\n",
            "\n",
            "EPOCH: 11 (LR: 0.5035348079586172)\n"
          ]
        },
        {
          "output_type": "stream",
          "name": "stderr",
          "text": [
            "Batch_id=97 Loss=1.10625 Accuracy=60.92%: 100%|██████████| 98/98 [00:12<00:00,  7.85it/s]\n"
          ]
        },
        {
          "output_type": "stream",
          "name": "stdout",
          "text": [
            "\n",
            "Test set: Average loss: 0.8730, Accuracy: 7013/10000 (70.13%)\n",
            "\n",
            "EPOCH: 12 (LR: 0.46764052414027346)\n"
          ]
        },
        {
          "output_type": "stream",
          "name": "stderr",
          "text": [
            "Batch_id=97 Loss=1.09991 Accuracy=61.27%: 100%|██████████| 98/98 [00:12<00:00,  7.73it/s]\n"
          ]
        },
        {
          "output_type": "stream",
          "name": "stdout",
          "text": [
            "\n",
            "Test set: Average loss: 0.8716, Accuracy: 7004/10000 (70.04%)\n",
            "\n",
            "EPOCH: 13 (LR: 0.43174624032192965)\n"
          ]
        },
        {
          "output_type": "stream",
          "name": "stderr",
          "text": [
            "Batch_id=97 Loss=1.07186 Accuracy=62.34%: 100%|██████████| 98/98 [00:12<00:00,  7.82it/s]\n"
          ]
        },
        {
          "output_type": "stream",
          "name": "stdout",
          "text": [
            "\n",
            "Test set: Average loss: 0.7774, Accuracy: 7316/10000 (73.16%)\n",
            "\n",
            "EPOCH: 14 (LR: 0.3958519565035859)\n"
          ]
        },
        {
          "output_type": "stream",
          "name": "stderr",
          "text": [
            "Batch_id=97 Loss=1.05490 Accuracy=62.86%: 100%|██████████| 98/98 [00:12<00:00,  7.84it/s]\n"
          ]
        },
        {
          "output_type": "stream",
          "name": "stdout",
          "text": [
            "\n",
            "Test set: Average loss: 0.7534, Accuracy: 7420/10000 (74.20%)\n",
            "\n",
            "EPOCH: 15 (LR: 0.35995767268524215)\n"
          ]
        },
        {
          "output_type": "stream",
          "name": "stderr",
          "text": [
            "Batch_id=97 Loss=1.04112 Accuracy=63.37%: 100%|██████████| 98/98 [00:12<00:00,  7.63it/s]\n"
          ]
        },
        {
          "output_type": "stream",
          "name": "stdout",
          "text": [
            "\n",
            "Test set: Average loss: 0.7427, Accuracy: 7440/10000 (74.40%)\n",
            "\n",
            "EPOCH: 16 (LR: 0.32406338886689834)\n"
          ]
        },
        {
          "output_type": "stream",
          "name": "stderr",
          "text": [
            "Batch_id=97 Loss=1.01929 Accuracy=64.04%: 100%|██████████| 98/98 [00:12<00:00,  7.91it/s]\n"
          ]
        },
        {
          "output_type": "stream",
          "name": "stdout",
          "text": [
            "\n",
            "Test set: Average loss: 0.7306, Accuracy: 7505/10000 (75.05%)\n",
            "\n",
            "EPOCH: 17 (LR: 0.2881691050485546)\n"
          ]
        },
        {
          "output_type": "stream",
          "name": "stderr",
          "text": [
            "Batch_id=97 Loss=1.00173 Accuracy=64.96%: 100%|██████████| 98/98 [00:12<00:00,  7.87it/s]\n"
          ]
        },
        {
          "output_type": "stream",
          "name": "stdout",
          "text": [
            "\n",
            "Test set: Average loss: 0.7085, Accuracy: 7566/10000 (75.66%)\n",
            "\n",
            "EPOCH: 18 (LR: 0.25227482123021083)\n"
          ]
        },
        {
          "output_type": "stream",
          "name": "stderr",
          "text": [
            "Batch_id=97 Loss=0.98966 Accuracy=65.21%: 100%|██████████| 98/98 [00:12<00:00,  7.89it/s]\n"
          ]
        },
        {
          "output_type": "stream",
          "name": "stdout",
          "text": [
            "\n",
            "Test set: Average loss: 0.7242, Accuracy: 7527/10000 (75.27%)\n",
            "\n",
            "EPOCH: 19 (LR: 0.21638053741186708)\n"
          ]
        },
        {
          "output_type": "stream",
          "name": "stderr",
          "text": [
            "Batch_id=97 Loss=0.97736 Accuracy=65.63%: 100%|██████████| 98/98 [00:12<00:00,  7.80it/s]\n"
          ]
        },
        {
          "output_type": "stream",
          "name": "stdout",
          "text": [
            "\n",
            "Test set: Average loss: 0.6655, Accuracy: 7693/10000 (76.93%)\n",
            "\n",
            "EPOCH: 20 (LR: 0.18048625359352333)\n"
          ]
        },
        {
          "output_type": "stream",
          "name": "stderr",
          "text": [
            "Batch_id=97 Loss=0.96144 Accuracy=66.26%: 100%|██████████| 98/98 [00:12<00:00,  7.85it/s]\n"
          ]
        },
        {
          "output_type": "stream",
          "name": "stdout",
          "text": [
            "\n",
            "Test set: Average loss: 0.6990, Accuracy: 7645/10000 (76.45%)\n",
            "\n",
            "EPOCH: 21 (LR: 0.14459196977517952)\n"
          ]
        },
        {
          "output_type": "stream",
          "name": "stderr",
          "text": [
            "Batch_id=97 Loss=0.94168 Accuracy=66.88%: 100%|██████████| 98/98 [00:12<00:00,  7.65it/s]\n"
          ]
        },
        {
          "output_type": "stream",
          "name": "stdout",
          "text": [
            "\n",
            "Test set: Average loss: 0.6575, Accuracy: 7743/10000 (77.43%)\n",
            "\n",
            "EPOCH: 22 (LR: 0.10869768595683582)\n"
          ]
        },
        {
          "output_type": "stream",
          "name": "stderr",
          "text": [
            "Batch_id=97 Loss=0.92565 Accuracy=67.57%: 100%|██████████| 98/98 [00:12<00:00,  7.88it/s]\n"
          ]
        },
        {
          "output_type": "stream",
          "name": "stdout",
          "text": [
            "\n",
            "Test set: Average loss: 0.6331, Accuracy: 7813/10000 (78.13%)\n",
            "\n",
            "EPOCH: 23 (LR: 0.07280340213849201)\n"
          ]
        },
        {
          "output_type": "stream",
          "name": "stderr",
          "text": [
            "Batch_id=97 Loss=0.90627 Accuracy=68.22%: 100%|██████████| 98/98 [00:12<00:00,  7.76it/s]\n"
          ]
        },
        {
          "output_type": "stream",
          "name": "stdout",
          "text": [
            "\n",
            "Test set: Average loss: 0.6195, Accuracy: 7863/10000 (78.63%)\n",
            "\n",
            "EPOCH: 24 (LR: 0.036909118320148315)\n"
          ]
        },
        {
          "output_type": "stream",
          "name": "stderr",
          "text": [
            "Batch_id=97 Loss=0.88325 Accuracy=68.86%: 100%|██████████| 98/98 [00:12<00:00,  7.94it/s]\n"
          ]
        },
        {
          "output_type": "stream",
          "name": "stdout",
          "text": [
            "\n",
            "Test set: Average loss: 0.6004, Accuracy: 7903/10000 (79.03%)\n",
            "\n"
          ]
        }
      ]
    },
    {
      "cell_type": "code",
      "source": [],
      "metadata": {
        "id": "PQkH8BhfAfdX"
      },
      "execution_count": null,
      "outputs": []
    }
  ]
}